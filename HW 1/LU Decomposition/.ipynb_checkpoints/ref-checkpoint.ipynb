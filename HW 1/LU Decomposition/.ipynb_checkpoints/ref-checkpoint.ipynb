{
 "cells": [
  {
   "cell_type": "markdown",
   "metadata": {},
   "source": [
    "# LU Decomposition"
   ]
  },
  {
   "cell_type": "markdown",
   "metadata": {},
   "source": [
    "Given the system:\n",
    "\n",
    "```\n",
    "3x0 + 2x1 + 4x2 = 1\n",
    " x0 +  x1 + 2x2 = 2\n",
    "4x0 + 3x1 + 2x2 = 3\n",
    "```\n",
    "\n",
    "Calculate the X = [x0, x1, x2]"
   ]
  },
  {
   "cell_type": "code",
   "execution_count": 1,
   "metadata": {},
   "outputs": [],
   "source": [
    "import numpy as np"
   ]
  },
  {
   "cell_type": "code",
   "execution_count": 26,
   "metadata": {},
   "outputs": [],
   "source": [
    "A = np.array([\n",
    "    [3., 2., 4.,6.],\n",
    "    [1., 1., 2.,7.],\n",
    "    [4., 3., 2.,8.],\n",
    "    [5.,5.,6.,7.]\n",
    "])\n",
    "\n",
    "B = np.array([1., 2., 3.])"
   ]
  },
  {
   "cell_type": "code",
   "execution_count": 39,
   "metadata": {},
   "outputs": [
    {
     "name": "stdout",
     "output_type": "stream",
     "text": [
      "cols : 0 rows : 1 \n",
      " U[j] : [0.         0.33333333 0.66666667 5.        ]\n",
      "cols : 0 rows : 1 \n",
      " U[i] : [3. 2. 4. 6.]\n",
      "1\n",
      "--------------------\n",
      "cols : 0 rows : 1 \n",
      " U :[[3.         2.         4.         6.        ]\n",
      " [0.         0.33333333 0.66666667 5.        ]\n",
      " [4.         3.         2.         8.        ]\n",
      " [5.         5.         6.         7.        ]]\n",
      "cols : 0 rows : 1 \n",
      " L :[[1.         0.         0.         0.        ]\n",
      " [0.33333333 1.         0.         0.        ]\n",
      " [0.         0.         1.         0.        ]\n",
      " [0.         0.         0.         1.        ]]\n",
      "cols : 0 rows : 2 \n",
      " U[j] : [ 0.          0.33333333 -3.33333333  0.        ]\n",
      "cols : 0 rows : 2 \n",
      " U[i] : [3. 2. 4. 6.]\n",
      "2\n",
      "--------------------\n",
      "cols : 0 rows : 2 \n",
      " U :[[ 3.          2.          4.          6.        ]\n",
      " [ 0.          0.33333333  0.66666667  5.        ]\n",
      " [ 0.          0.33333333 -3.33333333  0.        ]\n",
      " [ 5.          5.          6.          7.        ]]\n",
      "cols : 0 rows : 2 \n",
      " L :[[1.         0.         0.         0.        ]\n",
      " [0.33333333 1.         0.         0.        ]\n",
      " [1.33333333 0.         1.         0.        ]\n",
      " [0.         0.         0.         1.        ]]\n",
      "cols : 0 rows : 3 \n",
      " U[j] : [ 0.          1.66666667 -0.66666667 -3.        ]\n",
      "cols : 0 rows : 3 \n",
      " U[i] : [3. 2. 4. 6.]\n",
      "3\n",
      "--------------------\n",
      "cols : 0 rows : 3 \n",
      " U :[[ 3.          2.          4.          6.        ]\n",
      " [ 0.          0.33333333  0.66666667  5.        ]\n",
      " [ 0.          0.33333333 -3.33333333  0.        ]\n",
      " [ 0.          1.66666667 -0.66666667 -3.        ]]\n",
      "cols : 0 rows : 3 \n",
      " L :[[1.         0.         0.         0.        ]\n",
      " [0.33333333 1.         0.         0.        ]\n",
      " [1.33333333 0.         1.         0.        ]\n",
      " [1.66666667 0.         0.         1.        ]]\n",
      "cols : 1 rows : 2 \n",
      " U[j] : [ 0.00000000e+00  5.55111512e-17 -4.00000000e+00 -5.00000000e+00]\n",
      "cols : 1 rows : 2 \n",
      " U[i] : [0.         0.33333333 0.66666667 5.        ]\n",
      "2\n",
      "--------------------\n",
      "cols : 1 rows : 2 \n",
      " U :[[ 3.00000000e+00  2.00000000e+00  4.00000000e+00  6.00000000e+00]\n",
      " [ 0.00000000e+00  3.33333333e-01  6.66666667e-01  5.00000000e+00]\n",
      " [ 0.00000000e+00  5.55111512e-17 -4.00000000e+00 -5.00000000e+00]\n",
      " [ 0.00000000e+00  1.66666667e+00 -6.66666667e-01 -3.00000000e+00]]\n",
      "cols : 1 rows : 2 \n",
      " L :[[1.         0.         0.         0.        ]\n",
      " [0.33333333 1.         0.         0.        ]\n",
      " [1.33333333 1.         1.         0.        ]\n",
      " [1.66666667 0.         0.         1.        ]]\n",
      "cols : 1 rows : 3 \n",
      " U[j] : [  0.   0.  -4. -28.]\n",
      "cols : 1 rows : 3 \n",
      " U[i] : [0.         0.33333333 0.66666667 5.        ]\n",
      "3\n",
      "--------------------\n",
      "cols : 1 rows : 3 \n",
      " U :[[ 3.00000000e+00  2.00000000e+00  4.00000000e+00  6.00000000e+00]\n",
      " [ 0.00000000e+00  3.33333333e-01  6.66666667e-01  5.00000000e+00]\n",
      " [ 0.00000000e+00  5.55111512e-17 -4.00000000e+00 -5.00000000e+00]\n",
      " [ 0.00000000e+00  0.00000000e+00 -4.00000000e+00 -2.80000000e+01]]\n",
      "cols : 1 rows : 3 \n",
      " L :[[1.         0.         0.         0.        ]\n",
      " [0.33333333 1.         0.         0.        ]\n",
      " [1.33333333 1.         1.         0.        ]\n",
      " [1.66666667 5.         0.         1.        ]]\n",
      "cols : 2 rows : 3 \n",
      " U[j] : [ 0.00000000e+00 -5.55111512e-17  0.00000000e+00 -2.30000000e+01]\n",
      "cols : 2 rows : 3 \n",
      " U[i] : [ 0.00000000e+00  5.55111512e-17 -4.00000000e+00 -5.00000000e+00]\n",
      "3\n",
      "--------------------\n",
      "cols : 2 rows : 3 \n",
      " U :[[ 3.00000000e+00  2.00000000e+00  4.00000000e+00  6.00000000e+00]\n",
      " [ 0.00000000e+00  3.33333333e-01  6.66666667e-01  5.00000000e+00]\n",
      " [ 0.00000000e+00  5.55111512e-17 -4.00000000e+00 -5.00000000e+00]\n",
      " [ 0.00000000e+00 -5.55111512e-17  0.00000000e+00 -2.30000000e+01]]\n",
      "cols : 2 rows : 3 \n",
      " L :[[1.         0.         0.         0.        ]\n",
      " [0.33333333 1.         0.         0.        ]\n",
      " [1.33333333 1.         1.         0.        ]\n",
      " [1.66666667 5.         1.         1.        ]]\n",
      "L = [[1.         0.         0.         0.        ]\n",
      " [0.33333333 1.         0.         0.        ]\n",
      " [1.33333333 1.         1.         0.        ]\n",
      " [1.66666667 5.         1.         1.        ]]\n",
      "\n",
      "U = [[  3.           2.           4.           6.        ]\n",
      " [  0.           0.33333333   0.66666667   5.        ]\n",
      " [  0.           0.          -4.          -5.        ]\n",
      " [  0.          -0.           0.         -23.        ]]\n"
     ]
    }
   ],
   "source": [
    "def luDecompose(A):\n",
    "    U = A.copy()\n",
    "    L = np.eye(len(A))\n",
    "    P = np.arange(0, len(A))\n",
    "    for i in range(0, len(U)-1):\n",
    "        for j in range(i+1, len(U)):\n",
    "            lower = U[j][i]/U[i][i]\n",
    "            print('----------------')\n",
    "             print('U[i][i]:{}'.format(U[i][i]) )\n",
    "            print('U[i][i]:{}'.format(U[i][i]) )\n",
    "            print('----------------')\n",
    "            U[j] = U[j] - lower * U[i]\n",
    "            print('----------------')\n",
    "            print('cols : {} rows : {} \\n U[j] : {}'.format(i,j,U[j]))\n",
    "            print('cols : {} rows : {} \\n U[i] : {}'.format(i,j,U[i]))\n",
    "             print('----------------')\n",
    "            L[P[j]][i] = lower\n",
    "            print('----------------')\n",
    "            print(P[j])\n",
    "            print('--------------------')\n",
    "            print('cols : {} rows : {} \\n U :{}'.format(i,j,U))\n",
    "            print('cols : {} rows : {} \\n L :{}'.format(i,j,L))\n",
    "    return L, U\n",
    "    \n",
    "L, U = luDecompose(A)\n",
    "\n",
    "print(\"L =\", np.matrix.round(L, decimals=10))\n",
    "print(\"\")\n",
    "print(\"U =\", np.matrix.round(U, decimals=10))"
   ]
  },
  {
   "cell_type": "code",
   "execution_count": 36,
   "metadata": {},
   "outputs": [
    {
     "data": {
      "text/plain": [
       "array([[1., 0., 0., 0.],\n",
       "       [0., 1., 0., 0.],\n",
       "       [0., 0., 1., 0.],\n",
       "       [0., 0., 0., 1.]])"
      ]
     },
     "execution_count": 36,
     "metadata": {},
     "output_type": "execute_result"
    }
   ],
   "source": [
    "np.eye(len(A))"
   ]
  },
  {
   "cell_type": "code",
   "execution_count": null,
   "metadata": {},
   "outputs": [],
   "source": [
    "----\n",
    "\n",
    "With the L.U:\n",
    "    \n",
    "```\n",
    "    A X = B\n",
    "    L U X = B\n",
    "      ---\n",
    "      \n",
    "    U X = Y\n",
    "    L Y = B\n",
    "```\n",
    "\n",
    "----\n",
    "\n",
    "First calculate Y:"
   ]
  },
  {
   "cell_type": "code",
   "execution_count": 25,
   "metadata": {},
   "outputs": [
    {
     "name": "stdout",
     "output_type": "stream",
     "text": [
      "Y = [ 1.          1.66666667 -0.        ]\n"
     ]
    }
   ],
   "source": [
    "def calculateY(L, B):\n",
    "    Y = np.zeros(len(B))\n",
    "    for i in range(len(L)):\n",
    "        Y[i] = B[i] - sum(L[i] * Y)\n",
    "    return Y\n",
    "    \n",
    "Y = calculateY(L, B)\n",
    "\n",
    "print(\"Y =\", np.matrix.round(Y, decimals=10))"
   ]
  },
  {
   "cell_type": "markdown",
   "metadata": {},
   "source": [
    "----\n",
    "\n",
    "Then calculate X:"
   ]
  },
  {
   "cell_type": "code",
   "execution_count": 5,
   "metadata": {},
   "outputs": [
    {
     "name": "stdout",
     "output_type": "stream",
     "text": [
      "X = [-3.  5.  0.]\n"
     ]
    }
   ],
   "source": [
    "def calculateX(U, Y):\n",
    "    X = np.zeros(len(Y))\n",
    "    for i in reversed(range(len(U))):\n",
    "        X[i] = (Y[i] - sum(U[i][i+1:] * X[i+1:])) / U[i][i]\n",
    "    return X\n",
    "\n",
    "X = calculateX(U, Y)\n",
    "\n",
    "print(\"X =\", np.matrix.round(X, decimals=10))"
   ]
  },
  {
   "cell_type": "code",
   "execution_count": 6,
   "metadata": {},
   "outputs": [],
   "source": [
    "def test_system(A, X, B):\n",
    "    Br = A.dot(X)\n",
    "    assert len(Br) == len(B)\n",
    "    for i in range(len(B)):\n",
    "        actual = np.round(B[i], decimals=10)\n",
    "        result = np.round(Br[i], decimals=10)\n",
    "        msg = \"value %.2f != %.2f at index %d\" % (actual, result, i)\n",
    "        assert actual == result, msg"
   ]
  },
  {
   "cell_type": "code",
   "execution_count": 7,
   "metadata": {},
   "outputs": [],
   "source": [
    "test_system(A, X, B)"
   ]
  },
  {
   "cell_type": "markdown",
   "metadata": {},
   "source": [
    "----\n",
    "\n",
    "Validando com matrizes aleatorias"
   ]
  },
  {
   "cell_type": "code",
   "execution_count": 8,
   "metadata": {},
   "outputs": [],
   "source": [
    "def calc_and_test(A, B):\n",
    "    L, U = luDecompose(A)\n",
    "    Y = calculateY(L, B)\n",
    "    X = calculateX(U, Y)\n",
    "    test_system(A=A, X=X, B=B)\n",
    "    print(\"system ok\")"
   ]
  },
  {
   "cell_type": "code",
   "execution_count": 9,
   "metadata": {},
   "outputs": [
    {
     "name": "stdout",
     "output_type": "stream",
     "text": [
      "system ok\n"
     ]
    }
   ],
   "source": [
    "A1 = np.array([\n",
    "    [3.0, 2.0, 0.3, 0.],\n",
    "    [1.5, 0.1, 0.4, 2.],\n",
    "    [2.0, 0.0, 1.0, 0.],\n",
    "    [1.1, 1.1, 2.0, 4.]\n",
    "])\n",
    "B1 = np.array([2.0, 3.0, 1.1, 4.0])\n",
    "\n",
    "calc_and_test(A1, B1)"
   ]
  },
  {
   "cell_type": "code",
   "execution_count": 10,
   "metadata": {},
   "outputs": [
    {
     "name": "stdout",
     "output_type": "stream",
     "text": [
      "system ok\n"
     ]
    }
   ],
   "source": [
    "A2 = np.array([\n",
    "    [1.0, 3.0, 5.0],\n",
    "    [2.0, 4.0, 7.0],\n",
    "    [1.0, 1.0, 0.0]\n",
    "])\n",
    "B2 = np.array([0.0, 1.0, -2.0])\n",
    "\n",
    "calc_and_test(A2, B2)"
   ]
  },
  {
   "cell_type": "code",
   "execution_count": 11,
   "metadata": {},
   "outputs": [
    {
     "name": "stdout",
     "output_type": "stream",
     "text": [
      "system ok\n"
     ]
    }
   ],
   "source": [
    "A3 = np.array([\n",
    "    [5.0, 3.0, 1.0],\n",
    "    [0.0, 1.0, 1.0],\n",
    "    [-1.0, -1.0, 1.0]\n",
    "])\n",
    "B3 = np.array([-6.0, -1.0, 7.0])\n",
    "\n",
    "calc_and_test(A3, B3)"
   ]
  },
  {
   "cell_type": "code",
   "execution_count": 12,
   "metadata": {},
   "outputs": [
    {
     "name": "stdout",
     "output_type": "stream",
     "text": [
      "system ok\n"
     ]
    }
   ],
   "source": [
    "A4 = np.array([\n",
    "    [ 2., 1., 1., 0. ],\n",
    "    [ 0., 1., 1., 1. ],\n",
    "    [ 0., 0., 2., 2. ],\n",
    "    [ 0., 0., 0., 2. ],\n",
    "])\n",
    "\n",
    "B4 = np.array([1., 0., 0., 2.])\n",
    "\n",
    "calc_and_test(A4, B4)"
   ]
  },
  {
   "cell_type": "code",
   "execution_count": 13,
   "metadata": {},
   "outputs": [
    {
     "name": "stdout",
     "output_type": "stream",
     "text": [
      "system ok\n"
     ]
    }
   ],
   "source": [
    "A5 = np.array([\n",
    "    [ 2., 1., 1., 0. ],\n",
    "    [ 4., 3., 3., 1. ],\n",
    "    [ 8., 7., 9., 5. ],\n",
    "    [ 6., 7., 9., 8. ]\n",
    "])\n",
    "\n",
    "B5 = np.array( [ 1., 2., 4., 5. ])\n",
    "\n",
    "calc_and_test(A5, B5)"
   ]
  },
  {
   "cell_type": "code",
   "execution_count": null,
   "metadata": {},
   "outputs": [],
   "source": []
  },
  {
   "cell_type": "code",
   "execution_count": null,
   "metadata": {},
   "outputs": [],
   "source": []
  },
  {
   "cell_type": "code",
   "execution_count": null,
   "metadata": {},
   "outputs": [],
   "source": []
  }
 ],
 "metadata": {
  "kernelspec": {
   "display_name": "Python 3",
   "language": "python",
   "name": "python3"
  },
  "language_info": {
   "codemirror_mode": {
    "name": "ipython",
    "version": 3
   },
   "file_extension": ".py",
   "mimetype": "text/x-python",
   "name": "python",
   "nbconvert_exporter": "python",
   "pygments_lexer": "ipython3",
   "version": "3.7.4"
  }
 },
 "nbformat": 4,
 "nbformat_minor": 2
}
