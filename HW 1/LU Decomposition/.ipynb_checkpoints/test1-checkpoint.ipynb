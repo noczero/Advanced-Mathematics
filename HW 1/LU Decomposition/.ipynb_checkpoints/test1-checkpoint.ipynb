{
 "cells": [
  {
   "cell_type": "markdown",
   "metadata": {},
   "source": [
    " # LU Decomposition\n",
    " Define y = Ax\n",
    "using this method we can achive the LU given A"
   ]
  },
  {
   "cell_type": "code",
   "execution_count": 2,
   "metadata": {},
   "outputs": [],
   "source": [
    "import numpy\n",
    "def LUDecompose(table):\n",
    "    # Table that contains our data\n",
    "    # Table has to be a square array so we need to check first\n",
    "    rows, columns = numpy.shape(table)\n",
    "    L = numpy.zeros((rows, columns))\n",
    "    U = numpy.zeros((rows, columns))\n",
    "    if rows != columns:\n",
    "        return []\n",
    "    for i in range(columns):\n",
    "        for j in range(i - 1):\n",
    "            sum = 0\n",
    "            for k in range(j - 1):\n",
    "                sum += L[i][k] * U[k][j]\n",
    "            L[i][j] = (table[i][j] - sum) / U[j][j]\n",
    "        L[i][i] = 1\n",
    "        for j in range(i - 1, columns):\n",
    "            sum1 = 0\n",
    "            for k in range(i - 1):\n",
    "                sum1 += L[i][k] * U[k][j]\n",
    "            U[i][j] = table[i][j] - sum1\n",
    "    return L, U"
   ]
  },
  {
   "cell_type": "code",
   "execution_count": 4,
   "metadata": {},
   "outputs": [
    {
     "name": "stdout",
     "output_type": "stream",
     "text": [
      "[[1.  0.  0. ]\n",
      " [0.  1.  0. ]\n",
      " [2.5 0.  1. ]]\n",
      "[[ 2.  -2.   1. ]\n",
      " [ 0.   1.   2. ]\n",
      " [ 0.   8.  -1.5]]\n"
     ]
    }
   ],
   "source": [
    "matrix = numpy.array([[2, -2, 1], [0, 1, 2], [5, 3, 1]])\n",
    "L, U = LUDecompose(matrix)\n",
    "print(L)\n",
    "print(U)"
   ]
  },
  {
   "cell_type": "code",
   "execution_count": 5,
   "metadata": {},
   "outputs": [
    {
     "data": {
      "text/plain": [
       "array([[ 2, -2,  1],\n",
       "       [ 0,  1,  2],\n",
       "       [ 5,  3,  1]])"
      ]
     },
     "execution_count": 5,
     "metadata": {},
     "output_type": "execute_result"
    }
   ],
   "source": [
    "matrix"
   ]
  },
  {
   "cell_type": "code",
   "execution_count": 6,
   "metadata": {},
   "outputs": [
    {
     "data": {
      "text/plain": [
       "array([[ 2. , -0. ,  0. ],\n",
       "       [ 0. ,  1. ,  0. ],\n",
       "       [ 0. ,  0. , -1.5]])"
      ]
     },
     "execution_count": 6,
     "metadata": {},
     "output_type": "execute_result"
    }
   ],
   "source": []
  },
  {
   "cell_type": "code",
   "execution_count": null,
   "metadata": {},
   "outputs": [],
   "source": []
  }
 ],
 "metadata": {
  "kernelspec": {
   "display_name": "Python 3",
   "language": "python",
   "name": "python3"
  },
  "language_info": {
   "codemirror_mode": {
    "name": "ipython",
    "version": 3
   },
   "file_extension": ".py",
   "mimetype": "text/x-python",
   "name": "python",
   "nbconvert_exporter": "python",
   "pygments_lexer": "ipython3",
   "version": "3.7.4"
  }
 },
 "nbformat": 4,
 "nbformat_minor": 2
}
