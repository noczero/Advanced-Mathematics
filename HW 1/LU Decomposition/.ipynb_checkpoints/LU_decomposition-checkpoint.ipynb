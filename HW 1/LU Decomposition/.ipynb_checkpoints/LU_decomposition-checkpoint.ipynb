{
 "cells": [
  {
   "cell_type": "markdown",
   "metadata": {},
   "source": [
    " # LU Decomposition\n",
    "*Author : Satrya Budi Pratama*\n",
    "\n",
    "Define : y = **A**x\n",
    "\n",
    "using this method we can achive the **LU** given **A**"
   ]
  },
  {
   "cell_type": "markdown",
   "metadata": {},
   "source": [
    "# Pseudocode\n",
    "1. Generated **A** squared matrix using random value > 1  given the ordo(n)\n",
    "2. Copy **A** to **U**\n",
    "4. Create the **L** as Identity Matrix\n",
    "3. Iterate over cols and iterate over cols but skip first row\n",
    "    - calculate divider/factorize by divide current element with top element on same cols \n",
    "    - calculate gaussian elimination by **current rows** of U - (divider) * **first rows** of U, replace the result as new rows of **U**\n",
    "    - put divider on that  **L** on the index rows,cols\n",
    "6. Now we get **U** and **L**, check **L** dot **U** is same as **A**\n",
    "\n",
    "Notes : \n",
    "sometimes this method doesn't have solution on LU Decomposition because the random of **A**, we need to check if **A** can be solved or unsolved first, and throw an error if it unsolved."
   ]
  },
  {
   "cell_type": "code",
   "execution_count": 203,
   "metadata": {},
   "outputs": [],
   "source": [
    "import numpy as np\n",
    "np.set_printoptions(precision=3) # print 3 decimal"
   ]
  },
  {
   "cell_type": "code",
   "execution_count": 204,
   "metadata": {},
   "outputs": [],
   "source": [
    "ordo = 5 # this mean A_5x5, we can change this "
   ]
  },
  {
   "cell_type": "code",
   "execution_count": 205,
   "metadata": {},
   "outputs": [
    {
     "data": {
      "text/plain": [
       "array([[87., 51., 42., 53., 55.],\n",
       "       [66.,  7.,  5.,  3., 18.],\n",
       "       [12., 40., 21., 68., 18.],\n",
       "       [ 9., 87., 86., 51.,  5.],\n",
       "       [ 9., 44., 79., 84., 72.]])"
      ]
     },
     "execution_count": 205,
     "metadata": {},
     "output_type": "execute_result"
    }
   ],
   "source": [
    "# numpy.random.randint(min_val,max_val,(<num_rows>,<num_cols>))\n",
    "A = np.random.randint(1,100,(ordo,ordo)).astype(\"float\")\n",
    "#A = np.array([[1 , -2],[3,2]])\n",
    "A"
   ]
  },
  {
   "cell_type": "code",
   "execution_count": 208,
   "metadata": {},
   "outputs": [
    {
     "name": "stdout",
     "output_type": "stream",
     "text": [
      "\n",
      "\n",
      "Step 1\n",
      "-----------------------\n",
      "[cols 0] current/upper : 66.00/87.00 = 0.76\n",
      "[rows 0 : [87. 51. 42. 53. 55.]]\n",
      "[rows 1 : [  0.    -31.69  -26.862 -37.207 -23.724]]\n",
      "[cols 0] current/upper : 12.00/87.00 = 0.14\n",
      "[rows 0 : [87. 51. 42. 53. 55.]]\n",
      "[rows 2 : [ 0.    32.966 15.207 60.69  10.414]]\n",
      "[cols 0] current/upper : 9.00/87.00 = 0.10\n",
      "[rows 0 : [87. 51. 42. 53. 55.]]\n",
      "[rows 3 : [ 0.    81.724 81.655 45.517 -0.69 ]]\n",
      "[cols 0] current/upper : 9.00/87.00 = 0.10\n",
      "[rows 0 : [87. 51. 42. 53. 55.]]\n",
      "[rows 4 : [ 0.    38.724 74.655 78.517 66.31 ]]\n",
      "-----------------------\n",
      "A0 : \n",
      " [[ 87.     51.     42.     53.     55.   ]\n",
      " [  0.    -31.69  -26.862 -37.207 -23.724]\n",
      " [  0.     32.966  15.207  60.69   10.414]\n",
      " [  0.     81.724  81.655  45.517  -0.69 ]\n",
      " [  0.     38.724  74.655  78.517  66.31 ]]\n",
      "L0 : \n",
      " [[1.    0.    0.    0.    0.   ]\n",
      " [0.759 1.    0.    0.    0.   ]\n",
      " [0.138 0.    1.    0.    0.   ]\n",
      " [0.103 0.    0.    1.    0.   ]\n",
      " [0.103 0.    0.    0.    1.   ]]\n",
      "\n",
      "\n",
      "Step 2\n",
      "-----------------------\n",
      "[cols 1] current/upper : 32.97/-31.69 = -1.04\n",
      "[rows 1 : [  0.    -31.69  -26.862 -37.207 -23.724]]\n",
      "[rows 2 : [  0.      0.    -12.737  21.985 -14.266]]\n",
      "[cols 1] current/upper : 81.72/-31.69 = -2.58\n",
      "[rows 1 : [  0.    -31.69  -26.862 -37.207 -23.724]]\n",
      "[rows 3 : [  0.      0.     12.381 -50.435 -61.872]]\n",
      "[cols 1] current/upper : 38.72/-31.69 = -1.22\n",
      "[rows 1 : [  0.    -31.69  -26.862 -37.207 -23.724]]\n",
      "[rows 4 : [ 0.     0.    41.83  33.051 37.32 ]]\n",
      "-----------------------\n",
      "A1 : \n",
      " [[ 87.     51.     42.     53.     55.   ]\n",
      " [  0.    -31.69  -26.862 -37.207 -23.724]\n",
      " [  0.      0.    -12.737  21.985 -14.266]\n",
      " [  0.      0.     12.381 -50.435 -61.872]\n",
      " [  0.      0.     41.83   33.051  37.32 ]]\n",
      "L1 : \n",
      " [[ 1.     0.     0.     0.     0.   ]\n",
      " [ 0.759  1.     0.     0.     0.   ]\n",
      " [ 0.138 -1.04   1.     0.     0.   ]\n",
      " [ 0.103 -2.579  0.     1.     0.   ]\n",
      " [ 0.103 -1.222  0.     0.     1.   ]]\n",
      "\n",
      "\n",
      "Step 3\n",
      "-----------------------\n",
      "[cols 2] current/upper : 12.38/-12.74 = -0.97\n",
      "[rows 2 : [  0.      0.    -12.737  21.985 -14.266]]\n",
      "[rows 3 : [  0.      0.      0.    -29.065 -75.739]]\n",
      "[cols 2] current/upper : 41.83/-12.74 = -3.28\n",
      "[rows 2 : [  0.      0.    -12.737  21.985 -14.266]]\n",
      "[rows 4 : [  0.      0.      0.    105.254  -9.531]]\n",
      "-----------------------\n",
      "A2 : \n",
      " [[ 87.     51.     42.     53.     55.   ]\n",
      " [  0.    -31.69  -26.862 -37.207 -23.724]\n",
      " [  0.      0.    -12.737  21.985 -14.266]\n",
      " [  0.      0.      0.    -29.065 -75.739]\n",
      " [  0.      0.      0.    105.254  -9.531]]\n",
      "L2 : \n",
      " [[ 1.     0.     0.     0.     0.   ]\n",
      " [ 0.759  1.     0.     0.     0.   ]\n",
      " [ 0.138 -1.04   1.     0.     0.   ]\n",
      " [ 0.103 -2.579 -0.972  1.     0.   ]\n",
      " [ 0.103 -1.222 -3.284  0.     1.   ]]\n",
      "\n",
      "\n",
      "Step 4\n",
      "-----------------------\n",
      "[cols 3] current/upper : 105.25/-29.06 = -3.62\n",
      "[rows 3 : [  0.      0.      0.    -29.065 -75.739]]\n",
      "[rows 4 : [   0.      0.      0.      0.   -283.81]]\n",
      "-----------------------\n",
      "A3 : \n",
      " [[  87.      51.      42.      53.      55.   ]\n",
      " [   0.     -31.69   -26.862  -37.207  -23.724]\n",
      " [   0.       0.     -12.737   21.985  -14.266]\n",
      " [   0.       0.       0.     -29.065  -75.739]\n",
      " [   0.       0.       0.       0.    -283.81 ]]\n",
      "L3 : \n",
      " [[ 1.     0.     0.     0.     0.   ]\n",
      " [ 0.759  1.     0.     0.     0.   ]\n",
      " [ 0.138 -1.04   1.     0.     0.   ]\n",
      " [ 0.103 -2.579 -0.972  1.     0.   ]\n",
      " [ 0.103 -1.222 -3.284 -3.621  1.   ]]\n"
     ]
    }
   ],
   "source": [
    "rows, cols = np.shape(A) # get num of rows and col\n",
    "# iterate over the columns idx 0..col-1\n",
    "U = np.copy(A)\n",
    "L = np.identity(rows) # create identiy matrix for L\n",
    "# iterate over the rows and cols\n",
    "\n",
    "# loop over the cols, skip last cols\n",
    "for i in range(0,cols-1):\n",
    "    print('\\n')\n",
    "    print('Step {}'.format(i+1))\n",
    "    print('-----------------------')\n",
    "    # loop over the rows, skip first row \n",
    "    for j in range(i+1,rows):\n",
    "        factorize = U[j][i]/U[i][i] # current element divide by upper element on same cols\n",
    "        print('[cols {0}] current/upper : {1:.2f}/{2:.2f} = {3:.2f}'.format(i,U[j][i],U[i][i],factorize))\n",
    "        print('[rows {0} : {1}]'.format(i,U[i]))\n",
    "        U[j] = U[j] - factorize * U[i] # do gaussian elimination\n",
    "        print('[rows {0} : {1}]'.format(j,U[j]))\n",
    "        \n",
    "        L[j][i] = factorize # set the factorize to L\n",
    "    \n",
    "    print('-----------------------')\n",
    "    # show the step        \n",
    "    print('A{} : \\n {}'.format(i,U))\n",
    "    print('L{} : \\n {}'.format(i,L))"
   ]
  },
  {
   "cell_type": "code",
   "execution_count": 210,
   "metadata": {},
   "outputs": [
    {
     "name": "stdout",
     "output_type": "stream",
     "text": [
      "[[ 1.     0.     0.     0.     0.   ]\n",
      " [ 0.759  1.     0.     0.     0.   ]\n",
      " [ 0.138 -1.04   1.     0.     0.   ]\n",
      " [ 0.103 -2.579 -0.972  1.     0.   ]\n",
      " [ 0.103 -1.222 -3.284 -3.621  1.   ]]\n"
     ]
    }
   ],
   "source": [
    "print('{}'.format(L))"
   ]
  },
  {
   "cell_type": "code",
   "execution_count": 209,
   "metadata": {},
   "outputs": [
    {
     "name": "stdout",
     "output_type": "stream",
     "text": [
      "[[  87.      51.      42.      53.      55.   ]\n",
      " [   0.     -31.69   -26.862  -37.207  -23.724]\n",
      " [   0.       0.     -12.737   21.985  -14.266]\n",
      " [   0.       0.       0.     -29.065  -75.739]\n",
      " [   0.       0.       0.       0.    -283.81 ]]\n"
     ]
    }
   ],
   "source": [
    "print('{}'.format(U))"
   ]
  },
  {
   "cell_type": "markdown",
   "metadata": {},
   "source": [
    "# Testing\n",
    "\n",
    "We can test, with L.U :\n",
    "\n",
    "1. **A = L U**\n",
    "2. y = **A**x\n",
    "3. y = **L U** x\n",
    "    to solve x, first we search b , using this formula two back-substitution :\n",
    "    - y = U x\n",
    "    - b = L y\n",
    "\n",
    "    \n",
    "4. **y = inverse(A) x**\n"
   ]
  },
  {
   "cell_type": "markdown",
   "metadata": {},
   "source": [
    "## 1. Prove  A = LU"
   ]
  },
  {
   "cell_type": "code",
   "execution_count": 211,
   "metadata": {},
   "outputs": [
    {
     "data": {
      "text/plain": [
       "array([[87., 51., 42., 53., 55.],\n",
       "       [66.,  7.,  5.,  3., 18.],\n",
       "       [12., 40., 21., 68., 18.],\n",
       "       [ 9., 87., 86., 51.,  5.],\n",
       "       [ 9., 44., 79., 84., 72.]])"
      ]
     },
     "execution_count": 211,
     "metadata": {},
     "output_type": "execute_result"
    }
   ],
   "source": [
    "# first testing A = LU\n",
    "A_lu = np.round(np.dot(L,U)) # ceil up the element of matrix;\n",
    "A_lu"
   ]
  },
  {
   "cell_type": "code",
   "execution_count": 212,
   "metadata": {},
   "outputs": [
    {
     "data": {
      "text/plain": [
       "array([[87., 51., 42., 53., 55.],\n",
       "       [66.,  7.,  5.,  3., 18.],\n",
       "       [12., 40., 21., 68., 18.],\n",
       "       [ 9., 87., 86., 51.,  5.],\n",
       "       [ 9., 44., 79., 84., 72.]])"
      ]
     },
     "execution_count": 212,
     "metadata": {},
     "output_type": "execute_result"
    }
   ],
   "source": [
    "A"
   ]
  },
  {
   "cell_type": "markdown",
   "metadata": {},
   "source": [
    "Compare **A** result using LU Decomposition with the **A** original one"
   ]
  },
  {
   "cell_type": "code",
   "execution_count": 213,
   "metadata": {},
   "outputs": [
    {
     "data": {
      "text/plain": [
       "array([[ True,  True,  True,  True,  True],\n",
       "       [ True,  True,  True,  True,  True],\n",
       "       [ True,  True,  True,  True,  True],\n",
       "       [ True,  True,  True,  True,  True],\n",
       "       [ True,  True,  True,  True,  True]])"
      ]
     },
     "execution_count": 213,
     "metadata": {},
     "output_type": "execute_result"
    }
   ],
   "source": [
    "A_lu == A # all true means proved A = LU"
   ]
  },
  {
   "cell_type": "markdown",
   "metadata": {},
   "source": [
    "## 2. Prove  y = Ax"
   ]
  },
  {
   "cell_type": "code",
   "execution_count": 214,
   "metadata": {},
   "outputs": [
    {
     "data": {
      "text/plain": [
       "array([90., 34., 99., 29., 70.])"
      ]
     },
     "execution_count": 214,
     "metadata": {},
     "output_type": "execute_result"
    }
   ],
   "source": [
    "# generate random y\n",
    "y = np.random.randint(1,100,(1,ordo)).astype(\"float\") # generate random y\n",
    "y = y[0]\n",
    "y"
   ]
  },
  {
   "cell_type": "code",
   "execution_count": 215,
   "metadata": {},
   "outputs": [],
   "source": [
    "# two back-substitution\n",
    "def calculateX(U, Y):\n",
    "    X = np.zeros(len(Y))\n",
    "    for i in reversed(range(len(U))):\n",
    "        X[i] = (Y[i] - sum(U[i][i+1:] * X[i+1:])) / U[i][i]\n",
    "    return X\n",
    "\n",
    "def calculateLY(L, B):\n",
    "    Y = np.zeros(len(B))\n",
    "    for i in range(len(L)):\n",
    "        Y[i] = B[i] - sum(L[i] * Y)\n",
    "    return Y"
   ]
  },
  {
   "cell_type": "code",
   "execution_count": 216,
   "metadata": {},
   "outputs": [
    {
     "data": {
      "text/plain": [
       "array([ 90.   , -34.276,  50.93 , -19.196, 116.555])"
      ]
     },
     "execution_count": 216,
     "metadata": {},
     "output_type": "execute_result"
    }
   ],
   "source": [
    "b = calculateLY(L, y) # calculate b using Ly\n",
    "b"
   ]
  },
  {
   "cell_type": "markdown",
   "metadata": {},
   "source": [
    "We can ge x using two-back substitution"
   ]
  },
  {
   "cell_type": "code",
   "execution_count": 217,
   "metadata": {},
   "outputs": [
    {
     "data": {
      "text/plain": [
       "array([ 0.609, -0.175, -0.551,  1.731, -0.411])"
      ]
     },
     "execution_count": 217,
     "metadata": {},
     "output_type": "execute_result"
    }
   ],
   "source": [
    "x = calculateX(U,b) # calculate X using Ub\n",
    "x"
   ]
  },
  {
   "cell_type": "code",
   "execution_count": 218,
   "metadata": {},
   "outputs": [
    {
     "data": {
      "text/plain": [
       "array([90., 34., 99., 29., 70.])"
      ]
     },
     "execution_count": 218,
     "metadata": {},
     "output_type": "execute_result"
    }
   ],
   "source": [
    "# prove y = Ax\n",
    "y_rest = A.dot(x)\n",
    "y_rest"
   ]
  },
  {
   "cell_type": "code",
   "execution_count": 219,
   "metadata": {},
   "outputs": [
    {
     "data": {
      "text/plain": [
       "array([90., 34., 99., 29., 70.])"
      ]
     },
     "execution_count": 219,
     "metadata": {},
     "output_type": "execute_result"
    }
   ],
   "source": [
    "y"
   ]
  },
  {
   "cell_type": "markdown",
   "metadata": {},
   "source": [
    "Compare y result using two back subtitution with the original one"
   ]
  },
  {
   "cell_type": "code",
   "execution_count": 220,
   "metadata": {},
   "outputs": [
    {
     "data": {
      "text/plain": [
       "array([ True,  True,  True,  True,  True])"
      ]
     },
     "execution_count": 220,
     "metadata": {},
     "output_type": "execute_result"
    }
   ],
   "source": [
    "np.round(y_rest) == np.round(y) # all true means proved y = Ax"
   ]
  },
  {
   "cell_type": "markdown",
   "metadata": {},
   "source": [
    "## 3. Prove y = LUx"
   ]
  },
  {
   "cell_type": "code",
   "execution_count": 221,
   "metadata": {},
   "outputs": [],
   "source": [
    "y_rest_LU = L.dot(U).dot(x)"
   ]
  },
  {
   "cell_type": "code",
   "execution_count": 222,
   "metadata": {},
   "outputs": [
    {
     "data": {
      "text/plain": [
       "array([90., 34., 99., 29., 70.])"
      ]
     },
     "execution_count": 222,
     "metadata": {},
     "output_type": "execute_result"
    }
   ],
   "source": [
    "y_rest_LU"
   ]
  },
  {
   "cell_type": "code",
   "execution_count": 223,
   "metadata": {},
   "outputs": [
    {
     "data": {
      "text/plain": [
       "array([90., 34., 99., 29., 70.])"
      ]
     },
     "execution_count": 223,
     "metadata": {},
     "output_type": "execute_result"
    }
   ],
   "source": [
    "y"
   ]
  },
  {
   "cell_type": "markdown",
   "metadata": {},
   "source": [
    "Compare y result with the original one"
   ]
  },
  {
   "cell_type": "code",
   "execution_count": 224,
   "metadata": {},
   "outputs": [
    {
     "data": {
      "text/plain": [
       "array([ True,  True,  True,  True,  True])"
      ]
     },
     "execution_count": 224,
     "metadata": {},
     "output_type": "execute_result"
    }
   ],
   "source": [
    "np.round(y_rest_LU) == np.round(y) # all true means proved y = LUx"
   ]
  },
  {
   "cell_type": "markdown",
   "metadata": {},
   "source": [
    "## 4. Prove x = inverse(A) * y"
   ]
  },
  {
   "cell_type": "code",
   "execution_count": 225,
   "metadata": {},
   "outputs": [
    {
     "data": {
      "text/plain": [
       "array([[-0.016,  0.034,  0.007,  0.003,  0.002],\n",
       "       [ 0.062, -0.076, -0.015,  0.   , -0.025],\n",
       "       [-0.044,  0.054, -0.002,  0.012,  0.02 ],\n",
       "       [-0.034,  0.038,  0.029, -0.001,  0.009],\n",
       "       [ 0.052, -0.062, -0.024, -0.013, -0.004]])"
      ]
     },
     "execution_count": 225,
     "metadata": {},
     "output_type": "execute_result"
    }
   ],
   "source": [
    "# using inverse\n",
    "A_inv = np.linalg.inv(A)\n",
    "A_inv"
   ]
  },
  {
   "cell_type": "markdown",
   "metadata": {},
   "source": [
    "get x using inverse dot product y"
   ]
  },
  {
   "cell_type": "code",
   "execution_count": 226,
   "metadata": {},
   "outputs": [],
   "source": [
    "# prove x = A-1 * y\n",
    "x_res = A_inv.dot(y)"
   ]
  },
  {
   "cell_type": "code",
   "execution_count": 227,
   "metadata": {},
   "outputs": [
    {
     "data": {
      "text/plain": [
       "array([ 0.609, -0.175, -0.551,  1.731, -0.411])"
      ]
     },
     "execution_count": 227,
     "metadata": {},
     "output_type": "execute_result"
    }
   ],
   "source": [
    "x_res"
   ]
  },
  {
   "cell_type": "code",
   "execution_count": 228,
   "metadata": {},
   "outputs": [
    {
     "data": {
      "text/plain": [
       "array([ 0.609, -0.175, -0.551,  1.731, -0.411])"
      ]
     },
     "execution_count": 228,
     "metadata": {},
     "output_type": "execute_result"
    }
   ],
   "source": [
    "x"
   ]
  },
  {
   "cell_type": "markdown",
   "metadata": {},
   "source": [
    "Compare x_result using inverse with x original from two-back subtitution"
   ]
  },
  {
   "cell_type": "code",
   "execution_count": 229,
   "metadata": {},
   "outputs": [
    {
     "data": {
      "text/plain": [
       "array([ True,  True,  True,  True,  True])"
      ]
     },
     "execution_count": 229,
     "metadata": {},
     "output_type": "execute_result"
    }
   ],
   "source": [
    "np.round(x_res) == np.round(x) # all true means proved x = A-1 * y"
   ]
  }
 ],
 "metadata": {
  "kernelspec": {
   "display_name": "Python 3",
   "language": "python",
   "name": "python3"
  },
  "language_info": {
   "codemirror_mode": {
    "name": "ipython",
    "version": 3
   },
   "file_extension": ".py",
   "mimetype": "text/x-python",
   "name": "python",
   "nbconvert_exporter": "python",
   "pygments_lexer": "ipython3",
   "version": "3.7.4"
  }
 },
 "nbformat": 4,
 "nbformat_minor": 2
}
