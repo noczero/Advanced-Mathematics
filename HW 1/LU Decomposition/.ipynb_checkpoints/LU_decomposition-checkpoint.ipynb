{
 "cells": [
  {
   "cell_type": "markdown",
   "metadata": {},
   "source": [
    " # LU Decomposition\n",
    " Define y = Ax\n",
    "using this method we can achive the LU given A"
   ]
  },
  {
   "cell_type": "markdown",
   "metadata": {},
   "source": [
    "## Pseudocode\n",
    "1. Generated **A** using random value > 1 given the ordo\n",
    "2. Check the **A** is squared matrix\n",
    "3. Iterate over coloumn for calculate the **U**, and put it on that index and append it to array as factorized **U**\n",
    "4. Create the **L** as Identity Matrix\n",
    "5. Iterate over **L** and put the value of factorized **U**\n",
    "6. Now we get **U** and **L**, check **L** dot **U** is same as **A**"
   ]
  },
  {
   "cell_type": "code",
   "execution_count": 2,
   "metadata": {},
   "outputs": [],
   "source": [
    "import numpy as np"
   ]
  },
  {
   "cell_type": "code",
   "execution_count": 3,
   "metadata": {},
   "outputs": [],
   "source": [
    "ordo = 4 # this mean A_3x3"
   ]
  },
  {
   "cell_type": "code",
   "execution_count": 58,
   "metadata": {},
   "outputs": [
    {
     "data": {
      "text/plain": [
       "array([[ 3, 14,  1, 14],\n",
       "       [15, 15,  9,  3],\n",
       "       [15,  8, 13, 10],\n",
       "       [12,  5, 10, 11]])"
      ]
     },
     "execution_count": 58,
     "metadata": {},
     "output_type": "execute_result"
    }
   ],
   "source": [
    "# numpy.random.randint(min_val,max_val,(<num_rows>,<num_cols>))\n",
    "A = np.random.randint(1,20,(ordo,ordo)) # generate random matrix\n",
    "#A = np.array([[1 , -2],[3,2]])\n",
    "A"
   ]
  },
  {
   "cell_type": "code",
   "execution_count": 59,
   "metadata": {},
   "outputs": [
    {
     "name": "stdout",
     "output_type": "stream",
     "text": [
      "\n",
      "\n",
      "-----------------------\n",
      "[cols 0] current/upper : 15/3 = 5.0\n",
      "[rows 1 : [  0 -55   4 -67]]\n",
      "[cols 0] current/upper : 15/3 = 5.0\n",
      "[rows 2 : [  0 -62   8 -60]]\n",
      "[cols 0] current/upper : 12/3 = 4.0\n",
      "[rows 3 : [  0 -51   6 -45]]\n",
      "-----------------------\n",
      "A0 : \n",
      " [[  3  14   1  14]\n",
      " [  0 -55   4 -67]\n",
      " [  0 -62   8 -60]\n",
      " [  0 -51   6 -45]]\n",
      "L0 : \n",
      " [[1. 0. 0. 0.]\n",
      " [5. 1. 0. 0.]\n",
      " [5. 0. 1. 0.]\n",
      " [4. 0. 0. 1.]]\n",
      "\n",
      "\n",
      "-----------------------\n",
      "[cols 1] current/upper : -62/-55 = 1.1272727272727272\n",
      "[rows 2 : [ 0  0  3 15]]\n",
      "[cols 1] current/upper : -51/-55 = 0.9272727272727272\n",
      "[rows 3 : [ 0  0  2 17]]\n",
      "-----------------------\n",
      "A1 : \n",
      " [[  3  14   1  14]\n",
      " [  0 -55   4 -67]\n",
      " [  0   0   3  15]\n",
      " [  0   0   2  17]]\n",
      "L1 : \n",
      " [[1.         0.         0.         0.        ]\n",
      " [5.         1.         0.         0.        ]\n",
      " [5.         1.12727273 1.         0.        ]\n",
      " [4.         0.92727273 0.         1.        ]]\n",
      "\n",
      "\n",
      "-----------------------\n",
      "[cols 2] current/upper : 2/3 = 0.6666666666666666\n",
      "[rows 3 : [0 0 0 7]]\n",
      "-----------------------\n",
      "A2 : \n",
      " [[  3  14   1  14]\n",
      " [  0 -55   4 -67]\n",
      " [  0   0   3  15]\n",
      " [  0   0   0   7]]\n",
      "L2 : \n",
      " [[1.         0.         0.         0.        ]\n",
      " [5.         1.         0.         0.        ]\n",
      " [5.         1.12727273 1.         0.        ]\n",
      " [4.         0.92727273 0.66666667 1.        ]]\n"
     ]
    }
   ],
   "source": [
    "rows, cols = np.shape(A) # get num of rows and col\n",
    "# iterate over the columns idx 0..col-1\n",
    "U = np.copy(A)\n",
    "L = np.identity(rows) # create identiy matrix for L\n",
    "# iterate over the rows and cols\n",
    "\n",
    "# loop over the cols, skip last cols\n",
    "for i in range(0,cols-1):\n",
    "    print('\\n')\n",
    "    print('-----------------------')\n",
    "    # loop over the rows, skip first row \n",
    "    for j in range(i+1,rows):\n",
    "        factorize = U[j][i]/U[i][i] # current element divide by upper element on same cols\n",
    "        print('[cols {}] current/upper : {}/{} = {}'.format(i,U[j][i],U[i][i],factorize))\n",
    "        U[j] = U[j] - factorize * U[i] # do gaussian elimination\n",
    "        print('[rows {} : {}]'.format(j,U[j]))\n",
    "        L[j][i] = factorize # set the factorize to L\n",
    "    \n",
    "    print('-----------------------')\n",
    "    # show the step        \n",
    "    print('A{} : \\n {}'.format(i,U))\n",
    "    print('L{} : \\n {}'.format(i,L))"
   ]
  },
  {
   "cell_type": "code",
   "execution_count": 60,
   "metadata": {},
   "outputs": [
    {
     "name": "stdout",
     "output_type": "stream",
     "text": [
      "[[1.         0.         0.         0.        ]\n",
      " [5.         1.         0.         0.        ]\n",
      " [5.         1.12727273 1.         0.        ]\n",
      " [4.         0.92727273 0.66666667 1.        ]]\n"
     ]
    }
   ],
   "source": [
    "print(L)"
   ]
  },
  {
   "cell_type": "code",
   "execution_count": 61,
   "metadata": {},
   "outputs": [
    {
     "name": "stdout",
     "output_type": "stream",
     "text": [
      "[[  3  14   1  14]\n",
      " [  0 -55   4 -67]\n",
      " [  0   0   3  15]\n",
      " [  0   0   0   7]]\n"
     ]
    }
   ],
   "source": [
    "print(U)"
   ]
  },
  {
   "cell_type": "code",
   "execution_count": 71,
   "metadata": {},
   "outputs": [
    {
     "data": {
      "text/plain": [
       "array([[ 3., 14.,  1., 14.],\n",
       "       [15., 15.,  9.,  3.],\n",
       "       [15.,  9., 13., 10.],\n",
       "       [12.,  5., 10., 11.]])"
      ]
     },
     "execution_count": 71,
     "metadata": {},
     "output_type": "execute_result"
    }
   ],
   "source": [
    "np.ceil(np.dot(L,U)) # ceil up the element of matrix"
   ]
  },
  {
   "cell_type": "code",
   "execution_count": 72,
   "metadata": {},
   "outputs": [
    {
     "data": {
      "text/plain": [
       "array([[ 3, 14,  1, 14],\n",
       "       [15, 15,  9,  3],\n",
       "       [15,  8, 13, 10],\n",
       "       [12,  5, 10, 11]])"
      ]
     },
     "execution_count": 72,
     "metadata": {},
     "output_type": "execute_result"
    }
   ],
   "source": [
    "A"
   ]
  },
  {
   "cell_type": "code",
   "execution_count": null,
   "metadata": {},
   "outputs": [],
   "source": []
  },
  {
   "cell_type": "code",
   "execution_count": null,
   "metadata": {},
   "outputs": [],
   "source": []
  }
 ],
 "metadata": {
  "kernelspec": {
   "display_name": "Python 3",
   "language": "python",
   "name": "python3"
  },
  "language_info": {
   "codemirror_mode": {
    "name": "ipython",
    "version": 3
   },
   "file_extension": ".py",
   "mimetype": "text/x-python",
   "name": "python",
   "nbconvert_exporter": "python",
   "pygments_lexer": "ipython3",
   "version": "3.7.4"
  }
 },
 "nbformat": 4,
 "nbformat_minor": 2
}
