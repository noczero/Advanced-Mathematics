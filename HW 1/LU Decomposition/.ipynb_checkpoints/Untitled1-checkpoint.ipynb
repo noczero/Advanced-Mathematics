{
 "cells": [
  {
   "cell_type": "markdown",
   "metadata": {},
   "source": [
    " # LU Decomposition\n",
    " Define y = Ax\n",
    "using this method we can achive the LU given A"
   ]
  },
  {
   "cell_type": "markdown",
   "metadata": {},
   "source": [
    "## Pseudocode\n",
    "1. Generated **A** using random value > 1 given the ordo\n",
    "2. Check the **A** is squared matrix\n",
    "3. Iterate over coloumn for calculate the **U**, and put it on that index and append it to array as factorized **U**\n",
    "4. Create the **L** as Identity Matrix\n",
    "5. Iterate over **L** and put the value of factorized **U**\n",
    "6. Now we get **U** and **L**, check **L** dot **U** is same as **A**"
   ]
  },
  {
   "cell_type": "code",
   "execution_count": 2,
   "metadata": {},
   "outputs": [],
   "source": [
    "import numpy as np"
   ]
  },
  {
   "cell_type": "code",
   "execution_count": 3,
   "metadata": {},
   "outputs": [],
   "source": [
    "ordo = 3 # this mean A_3x3"
   ]
  },
  {
   "cell_type": "code",
   "execution_count": 13,
   "metadata": {},
   "outputs": [
    {
     "data": {
      "text/plain": [
       "array([[13, 18, 13],\n",
       "       [ 8,  5,  9],\n",
       "       [ 2,  9, 15]])"
      ]
     },
     "execution_count": 13,
     "metadata": {},
     "output_type": "execute_result"
    }
   ],
   "source": [
    "# numpy.random.randint(min_val,max_val,(<num_rows>,<num_cols>))\n",
    "A = np.random.randint(1,20,(ordo,ordo)) # generate random matrix\n",
    "A"
   ]
  },
  {
   "cell_type": "code",
   "execution_count": 16,
   "metadata": {},
   "outputs": [
    {
     "name": "stdout",
     "output_type": "stream",
     "text": [
      "0\n",
      "1\n",
      "2\n"
     ]
    }
   ],
   "source": [
    "rows, columns = np.shape(A) # get num of rows and col\n",
    "# iterate over the columns idx 0..col-1\n",
    "U = np.zeros((rows, columns))\n",
    "for i in range(columns):\n",
    "    print()"
   ]
  },
  {
   "cell_type": "code",
   "execution_count": null,
   "metadata": {},
   "outputs": [],
   "source": []
  }
 ],
 "metadata": {
  "kernelspec": {
   "display_name": "Python 3",
   "language": "python",
   "name": "python3"
  },
  "language_info": {
   "codemirror_mode": {
    "name": "ipython",
    "version": 3
   },
   "file_extension": ".py",
   "mimetype": "text/x-python",
   "name": "python",
   "nbconvert_exporter": "python",
   "pygments_lexer": "ipython3",
   "version": "3.7.4"
  }
 },
 "nbformat": 4,
 "nbformat_minor": 2
}
