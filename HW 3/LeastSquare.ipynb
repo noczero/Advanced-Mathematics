{
 "cells": [
  {
   "cell_type": "markdown",
   "metadata": {},
   "source": [
    "# Least Squares Approximations\n",
    "*Author : Satrya Budi Pratama*\n",
    "\n",
    "\n",
    "It often happens that $\\mathbf{A}x=b$ has no solution. \n",
    "Several reason are : \n",
    "\n",
    "\n",
    " - The usual reason is: too many equations.\n",
    " - The matrix has more rows than columns. \n",
    " - There are more equations than unknowns (m is greater than n). The n columns span a small part of m-dimensional space. \n",
    " - Unless all measurements are perfect, b is outside that column space. \n",
    " \n",
    "So elimination reaches an impossible equation and stops. But we can’t stop just because measurements include noise.\n",
    "\n",
    "When $\\mathbf{A}x=b$ has no solution, multiply by $\\mathbf{A}^\\intercal$ and solve $\\mathbf{A}^\\intercal \\mathbf{A}\\hat{x} = \\mathbf{A}^\\intercal b$. So to get the approximations solution $\\hat{x}$, we can get $\\hat{x}=(\\mathbf{A}^\\intercal A)^{-1}\\mathbf{A}^\\intercal b$.\n",
    "\n",
    "They are connected by the projection $p=A\\hat{x}$.\n",
    "\n",
    "For example we use :\n",
    "$Ax = b$\n",
    "\n",
    "$\\begin{bmatrix} 1 & 1\\\\\n",
    "2 & 1  \\\\\n",
    "3 & 1\\end{bmatrix}\\begin{bmatrix}x_{1}\\\\x_{2} \\end{bmatrix} = \\begin{bmatrix}1\\\\2\\\\2\\end{bmatrix}$\n",
    "\n",
    "In this notebook we solve x using least square, get the projection, and the error"
   ]
  },
  {
   "cell_type": "code",
   "execution_count": 73,
   "metadata": {},
   "outputs": [],
   "source": [
    "import numpy as np\n",
    "import math\n",
    "A = np.array([[1. , 1.],\n",
    "             [2., 1.],\n",
    "             [3., 1.]])\n",
    "b = np.array([1., 2., 2.])"
   ]
  },
  {
   "cell_type": "code",
   "execution_count": 74,
   "metadata": {},
   "outputs": [
    {
     "data": {
      "text/plain": [
       "array([[1., 1.],\n",
       "       [2., 1.],\n",
       "       [3., 1.]])"
      ]
     },
     "execution_count": 74,
     "metadata": {},
     "output_type": "execute_result"
    }
   ],
   "source": [
    "A"
   ]
  },
  {
   "cell_type": "code",
   "execution_count": 75,
   "metadata": {},
   "outputs": [
    {
     "data": {
      "text/plain": [
       "array([1., 2., 2.])"
      ]
     },
     "execution_count": 75,
     "metadata": {},
     "output_type": "execute_result"
    }
   ],
   "source": [
    "b"
   ]
  },
  {
   "cell_type": "markdown",
   "metadata": {},
   "source": [
    "## Least Squares Solution  \n",
    "$\\hat{x}=(\\mathbf{A}^\\intercal A)^{-1}\\mathbf{A}^\\intercal b$"
   ]
  },
  {
   "cell_type": "code",
   "execution_count": 76,
   "metadata": {},
   "outputs": [
    {
     "data": {
      "text/plain": [
       "array([0.5       , 0.66666667])"
      ]
     },
     "execution_count": 76,
     "metadata": {},
     "output_type": "execute_result"
    }
   ],
   "source": [
    "x = np.linalg.inv(A.transpose().dot(A)).dot(A.transpose().dot(b))\n",
    "x"
   ]
  },
  {
   "cell_type": "markdown",
   "metadata": {},
   "source": [
    "## The Projection matrix ($p$)\n",
    "\n",
    "$p=A\\hat{x}$"
   ]
  },
  {
   "cell_type": "code",
   "execution_count": 77,
   "metadata": {},
   "outputs": [
    {
     "data": {
      "text/plain": [
       "array([1.16666667, 1.66666667, 2.16666667])"
      ]
     },
     "execution_count": 77,
     "metadata": {},
     "output_type": "execute_result"
    }
   ],
   "source": [
    "p = A.dot(x)\n",
    "p"
   ]
  },
  {
   "cell_type": "markdown",
   "metadata": {},
   "source": [
    "## The error\n",
    "$e = b - A\\hat{x}$ or  $e = b - p$"
   ]
  },
  {
   "cell_type": "code",
   "execution_count": 78,
   "metadata": {},
   "outputs": [
    {
     "data": {
      "text/plain": [
       "array([-0.16666667,  0.33333333, -0.16666667])"
      ]
     },
     "execution_count": 78,
     "metadata": {},
     "output_type": "execute_result"
    }
   ],
   "source": [
    "e = b - A.dot(x)\n",
    "e"
   ]
  },
  {
   "cell_type": "code",
   "execution_count": 79,
   "metadata": {},
   "outputs": [
    {
     "data": {
      "text/plain": [
       "array([-0.16666667,  0.33333333, -0.16666667])"
      ]
     },
     "execution_count": 79,
     "metadata": {},
     "output_type": "execute_result"
    }
   ],
   "source": [
    "e = b - p\n",
    "e"
   ]
  },
  {
   "cell_type": "code",
   "execution_count": 80,
   "metadata": {},
   "outputs": [
    {
     "data": {
      "text/plain": [
       "0.22222222222222263"
      ]
     },
     "execution_count": 80,
     "metadata": {},
     "output_type": "execute_result"
    }
   ],
   "source": [
    "# MAE\n",
    "mae = np.average(abs(e))\n",
    "mae"
   ]
  },
  {
   "cell_type": "code",
   "execution_count": 81,
   "metadata": {},
   "outputs": [
    {
     "data": {
      "text/plain": [
       "0.05555555555555556"
      ]
     },
     "execution_count": 81,
     "metadata": {},
     "output_type": "execute_result"
    }
   ],
   "source": [
    "# MSE\n",
    "power = np.power(e,2)\n",
    "mse = np.average(power)\n",
    "mse"
   ]
  },
  {
   "cell_type": "code",
   "execution_count": 82,
   "metadata": {},
   "outputs": [
    {
     "data": {
      "text/plain": [
       "0.23570226039551584"
      ]
     },
     "execution_count": 82,
     "metadata": {},
     "output_type": "execute_result"
    }
   ],
   "source": [
    "# RMSE\n",
    "rmse = math.sqrt(mse)\n",
    "rmse"
   ]
  },
  {
   "cell_type": "markdown",
   "metadata": {},
   "source": [
    "When e is zero,\n",
    "$\\hat{x}$ is an exact solution to $\\mathbf{A}x=b$"
   ]
  },
  {
   "cell_type": "markdown",
   "metadata": {},
   "source": [
    "# References\n",
    "- http://math.mit.edu/~gs/linearalgebra/ila0403.pdf\n",
    "- https://medium.com/analytics-vidhya/forecast-kpi-rmse-mae-mape-bias-cdc5703d242d"
   ]
  }
 ],
 "metadata": {
  "kernelspec": {
   "display_name": "Python 3",
   "language": "python",
   "name": "python3"
  },
  "language_info": {
   "codemirror_mode": {
    "name": "ipython",
    "version": 3
   },
   "file_extension": ".py",
   "mimetype": "text/x-python",
   "name": "python",
   "nbconvert_exporter": "python",
   "pygments_lexer": "ipython3",
   "version": "3.7.4"
  }
 },
 "nbformat": 4,
 "nbformat_minor": 2
}
