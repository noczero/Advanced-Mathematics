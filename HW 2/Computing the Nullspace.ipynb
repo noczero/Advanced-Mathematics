{
 "cells": [
  {
   "cell_type": "markdown",
   "metadata": {},
   "source": [
    "# Computing the Nullspace"
   ]
  },
  {
   "cell_type": "code",
   "execution_count": 41,
   "metadata": {},
   "outputs": [],
   "source": [
    "import numpy as np\n",
    "import numpy.linalg as la"
   ]
  },
  {
   "cell_type": "code",
   "execution_count": 46,
   "metadata": {},
   "outputs": [],
   "source": [
    "n = 5\n",
    "np.random.seed(25)\n",
    "A = np.random.randn(n, n)\n",
    "\n",
    "# Decrease the rank\n",
    "A[4] = A[0] + 5 * A[2]\n",
    "A[1] = 3 * A[0] -2 * A[3]"
   ]
  },
  {
   "cell_type": "code",
   "execution_count": 47,
   "metadata": {},
   "outputs": [],
   "source": [
    "from scipy.linalg import lu"
   ]
  },
  {
   "cell_type": "code",
   "execution_count": 48,
   "metadata": {},
   "outputs": [],
   "source": [
    "PT, L, U = lu(A.T)\n",
    "P = PT.T"
   ]
  },
  {
   "cell_type": "code",
   "execution_count": 49,
   "metadata": {},
   "outputs": [
    {
     "data": {
      "text/plain": [
       "1.1322097734007351e-15"
      ]
     },
     "execution_count": 49,
     "metadata": {},
     "output_type": "execute_result"
    }
   ],
   "source": [
    "la.norm(\n",
    "    P.dot(A.T) - L.dot(U))"
   ]
  },
  {
   "cell_type": "code",
   "execution_count": 50,
   "metadata": {},
   "outputs": [
    {
     "data": {
      "text/plain": [
       "array([[  1.027e+00,   6.761e-01,  -2.323e-01,   1.202e+00,  -1.347e-01],\n",
       "       [  0.000e+00,  -3.498e+00,  -1.468e+00,   1.749e+00,  -7.342e+00],\n",
       "       [  0.000e+00,   0.000e+00,  -2.140e+00,   4.441e-16,  -1.070e+01],\n",
       "       [  0.000e+00,   0.000e+00,   0.000e+00,   5.761e-16,   0.000e+00],\n",
       "       [  0.000e+00,   0.000e+00,   0.000e+00,   0.000e+00,   8.882e-16]])"
      ]
     },
     "execution_count": 50,
     "metadata": {},
     "output_type": "execute_result"
    }
   ],
   "source": [
    "np.set_printoptions(precision=3)\n",
    "U"
   ]
  },
  {
   "cell_type": "markdown",
   "metadata": {},
   "source": [
    "Now define `NUT` as vectors spanning the nullspace of $N(U^T)$."
   ]
  },
  {
   "cell_type": "code",
   "execution_count": 55,
   "metadata": {},
   "outputs": [],
   "source": [
    "NUT = np.eye(n)[:, 3:]"
   ]
  },
  {
   "cell_type": "markdown",
   "metadata": {},
   "source": [
    "Check that it's actually a nullspace:"
   ]
  },
  {
   "cell_type": "code",
   "execution_count": 56,
   "metadata": {},
   "outputs": [
    {
     "data": {
      "text/plain": [
       "array([[  0.000e+00,   0.000e+00],\n",
       "       [  0.000e+00,   0.000e+00],\n",
       "       [  0.000e+00,   0.000e+00],\n",
       "       [  5.761e-16,   0.000e+00],\n",
       "       [  0.000e+00,   8.882e-16]])"
      ]
     },
     "execution_count": 56,
     "metadata": {},
     "output_type": "execute_result"
    }
   ],
   "source": [
    "U.T.dot(NUT)"
   ]
  },
  {
   "cell_type": "markdown",
   "metadata": {},
   "source": [
    "Now define `NA` as some vectors spanning $N(A)$:"
   ]
  },
  {
   "cell_type": "code",
   "execution_count": 58,
   "metadata": {},
   "outputs": [],
   "source": [
    "NA = P.T.dot(la.solve(L.T, NUT))"
   ]
  },
  {
   "cell_type": "markdown",
   "metadata": {},
   "source": [
    "And check:"
   ]
  },
  {
   "cell_type": "code",
   "execution_count": 59,
   "metadata": {},
   "outputs": [
    {
     "data": {
      "text/plain": [
       "array([[ -1.110e-16,   0.000e+00],\n",
       "       [  0.000e+00,   0.000e+00],\n",
       "       [  0.000e+00,   1.110e-16],\n",
       "       [  1.110e-16,   5.551e-17],\n",
       "       [  0.000e+00,   4.441e-16]])"
      ]
     },
     "execution_count": 59,
     "metadata": {},
     "output_type": "execute_result"
    }
   ],
   "source": [
    "A.dot(NA)"
   ]
  }
 ],
 "metadata": {
  "kernelspec": {
   "display_name": "Python 3",
   "language": "python",
   "name": "python3"
  },
  "language_info": {
   "codemirror_mode": {
    "name": "ipython",
    "version": 3
   },
   "file_extension": ".py",
   "mimetype": "text/x-python",
   "name": "python",
   "nbconvert_exporter": "python",
   "pygments_lexer": "ipython3",
   "version": "3.7.4"
  }
 },
 "nbformat": 4,
 "nbformat_minor": 1
}
