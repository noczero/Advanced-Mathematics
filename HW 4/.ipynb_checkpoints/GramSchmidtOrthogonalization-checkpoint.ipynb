{
 "cells": [
  {
   "cell_type": "markdown",
   "metadata": {},
   "source": [
    "# Gram-Schmidt Orthogonalization\n",
    "\n",
    "How to make A which is not orthogonal to orthogonal."
   ]
  },
  {
   "cell_type": "code",
   "execution_count": 1,
   "metadata": {},
   "outputs": [],
   "source": [
    "import numpy as np\n",
    "A = np.array([[1. , 2. , 4.],\n",
    "            [0., 0., 5.],\n",
    "            [0., 3., 6.]])"
   ]
  },
  {
   "cell_type": "code",
   "execution_count": 2,
   "metadata": {},
   "outputs": [
    {
     "data": {
      "text/plain": [
       "array([1., 0., 0.])"
      ]
     },
     "execution_count": 2,
     "metadata": {},
     "output_type": "execute_result"
    }
   ],
   "source": [
    "A[:,0]"
   ]
  },
  {
   "cell_type": "code",
   "execution_count": 22,
   "metadata": {},
   "outputs": [
    {
     "name": "stdout",
     "output_type": "stream",
     "text": [
      "\n",
      " --- Step 1 : ---- \n",
      "\n",
      "-- Result --\n",
      " Q: [[1. 0. 0.]\n",
      " [0. 0. 0.]\n",
      " [0. 0. 0.]] \n",
      "\n",
      " R: [[1. 0. 0.]\n",
      " [0. 0. 0.]\n",
      " [0. 0. 0.]]\n",
      "\n",
      " --- Step 2 : ---- \n",
      "\n",
      "-- inner loop --\n",
      "w_product : 2.0 \t w_sigma: [2. 0. 0.] \n",
      " w : [2. 0. 0.] \n",
      "-- outer -- \n",
      "w : [0. 0. 3.] , w_norm : 3.0\n",
      "-- Result --\n",
      " Q: [[1. 0. 0.]\n",
      " [0. 0. 0.]\n",
      " [0. 1. 0.]] \n",
      "\n",
      " R: [[1. 2. 0.]\n",
      " [0. 3. 0.]\n",
      " [0. 0. 0.]]\n",
      "\n",
      " --- Step 3 : ---- \n",
      "\n",
      "-- inner loop --\n",
      "w_product : 4.0 \t w_sigma: [4. 0. 0.] \n",
      " w : [4. 0. 0.] \n",
      "w_product : 6.0 \t w_sigma: [0. 0. 6.] \n",
      " w : [4. 0. 6.] \n",
      "-- outer -- \n",
      "w : [0. 5. 0.] , w_norm : 5.0\n",
      "-- Result --\n",
      " Q: [[1. 0. 0.]\n",
      " [0. 0. 1.]\n",
      " [0. 1. 0.]] \n",
      "\n",
      " R: [[1. 2. 4.]\n",
      " [0. 3. 6.]\n",
      " [0. 0. 5.]]\n"
     ]
    },
    {
     "data": {
      "text/plain": [
       "(array([[1., 0., 0.],\n",
       "        [0., 0., 1.],\n",
       "        [0., 1., 0.]]), array([[1., 2., 4.],\n",
       "        [0., 3., 6.],\n",
       "        [0., 0., 5.]]))"
      ]
     },
     "execution_count": 22,
     "metadata": {},
     "output_type": "execute_result"
    }
   ],
   "source": [
    "def QRDecomposition(A):\n",
    "    rows,cols = A.shape\n",
    "    Q = np.zeros((rows,cols))\n",
    "    R = np.zeros((rows,cols))\n",
    "    \n",
    "    # iterate over cols\n",
    "    for i in range(cols):\n",
    "        print('\\n --- Step {} : ---- \\n'.format(i+1))\n",
    "        if i == 0:\n",
    "            # first cols\n",
    "            w_norm =  np.sqrt(np.transpose(A[:,i]).dot(A[:,i])) # norm euclidean of first cols\n",
    "            Q[:,i] = A[:,i] / w_norm # calculate Q\n",
    "            R[i,i] = w_norm # put norm to R\n",
    "        else:\n",
    "            idx_rows = 0\n",
    "            print('-- inner loop --')\n",
    "            w = np.zeros(rows) \n",
    "            #print(w)\n",
    "            for j in range(i):\n",
    "                # inner loop for calculate sigma\n",
    "                w_product = np.transpose(A[:,i]).dot(Q[:,idx_rows]) # calculate dot product An^T with Qn.\n",
    "                R[idx_rows,i] = w_product # put w_product to R\n",
    "                w_sigma = w_product * Q[:,idx_rows] # dot q, (An^T*Qi)Qi\n",
    "                w =  w + w_sigma # summation the result\n",
    "                idx_rows += 1\n",
    "                print('w_product : {} \\t w_sigma: {} \\n w : {} '.format(w_product,w_sigma, w))\n",
    "            \n",
    "            w = A[:,i].transpose() - w # An - summation \n",
    "            w = w.transpose() # change the shape\n",
    "            w_norm = np.sqrt(np.transpose(w).dot(w)) # calculate norm of w\n",
    "            R[i,i] = w_norm # put norm to R\n",
    "            Q[:,i] = w / w_norm # calculate Q \n",
    "            print('-- outer -- ')\n",
    "            print('w : {} , w_norm : {}'.format(w,w_norm))\n",
    "            \n",
    "        print('-- Result --')\n",
    "        print(' Q: {} \\n\\n R: {}'.format(Q, R))\n",
    "    \n",
    "    return Q, R\n",
    "        \n",
    "gramschmidt(A)"
   ]
  },
  {
   "cell_type": "code",
   "execution_count": 13,
   "metadata": {},
   "outputs": [
    {
     "data": {
      "text/plain": [
       "array([-2.,  0.,  0.])"
      ]
     },
     "execution_count": 13,
     "metadata": {},
     "output_type": "execute_result"
    }
   ],
   "source": [
    "np.zeros(3) - [2., 0 , 0]"
   ]
  },
  {
   "cell_type": "code",
   "execution_count": null,
   "metadata": {},
   "outputs": [],
   "source": []
  }
 ],
 "metadata": {
  "kernelspec": {
   "display_name": "Python 3",
   "language": "python",
   "name": "python3"
  },
  "language_info": {
   "codemirror_mode": {
    "name": "ipython",
    "version": 3
   },
   "file_extension": ".py",
   "mimetype": "text/x-python",
   "name": "python",
   "nbconvert_exporter": "python",
   "pygments_lexer": "ipython3",
   "version": "3.7.4"
  }
 },
 "nbformat": 4,
 "nbformat_minor": 2
}
