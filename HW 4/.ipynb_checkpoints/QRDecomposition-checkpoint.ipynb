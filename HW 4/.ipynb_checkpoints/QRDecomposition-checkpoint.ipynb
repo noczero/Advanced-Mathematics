{
 "cells": [
  {
   "cell_type": "markdown",
   "metadata": {},
   "source": [
    "# QR Decomposition\n",
    "*Author : Satrya Budi Pratama*\n",
    "\n",
    "How to make $\\mathbf{A}$ which is not orthogonal to orthogonal using Gram-Schmidt to get $\\mathbf{Q}$. Using that method we can also calculate the $\\mathbf{R}$ for QR Decomposition.\n",
    "\n",
    "$A = QR$\n",
    "\n",
    "where $Q$ is $(n×n)$ orthogonal $(Q^TQ = I)$ and $R$ is $(n×n)$ upper triangular.\n",
    "\n",
    "For example given  $A = \\begin{bmatrix} 1 & 2 & 4\\\\\n",
    "0 & 0 & 5  \\\\\n",
    "0 & 3 & 6\\end{bmatrix}$, where $a_1 =\\begin{bmatrix} 1\\\\0\\\\0 \\end{bmatrix},a_2 =\\begin{bmatrix} 2\\\\0\\\\3 \\end{bmatrix},a_3 =\\begin{bmatrix} 4\\\\5\\\\6 \\end{bmatrix}$ our goals it to calculate $q_1 , q_2$ and $q_3$\n",
    "\n",
    "using this formula $q_n = \\frac{w_n}{|| w_n ||}$ where $w_n = a_n - \\sum^{n-1}_{i=1} (a_n^\\intercal q_i)q_i$ and $|| w_n || = \\sqrt{w_n^\\intercal w_n}$\n",
    "\n",
    "\n",
    "The pseudocode are :\n",
    "\n",
    "\n",
    "1. Generate $A$\n",
    "2. Call QR Decomposition\n",
    "    - generate zeros matrix as Q, and R\n",
    "    - iterate over column \n",
    "        - for first iterate update first Q = current cols / euclidean of first cols and update R for its norm\n",
    "        - and next iterate we do iteration as many of q then calculate w using the formula, update Q and R.\n",
    "    - return Q and R\n",
    "3. Prove $A = QR$\n",
    "\n"
   ]
  },
  {
   "cell_type": "code",
   "execution_count": 5,
   "metadata": {},
   "outputs": [
    {
     "data": {
      "text/plain": [
       "array([[1., 2., 4.],\n",
       "       [0., 0., 5.],\n",
       "       [0., 3., 6.]])"
      ]
     },
     "execution_count": 5,
     "metadata": {},
     "output_type": "execute_result"
    }
   ],
   "source": [
    "import numpy as np\n",
    "A = np.array([[1. , 2. , 4.],\n",
    "            [0., 0., 5.],\n",
    "            [0., 3., 6.]])\n",
    "A"
   ]
  },
  {
   "cell_type": "code",
   "execution_count": 6,
   "metadata": {},
   "outputs": [
    {
     "name": "stdout",
     "output_type": "stream",
     "text": [
      "\n",
      " --- Step 1 : ---- \n",
      "\n",
      "-- Result --\n",
      " Q: [[1. 0. 0.]\n",
      " [0. 0. 0.]\n",
      " [0. 0. 0.]] \n",
      "\n",
      " R: [[1. 0. 0.]\n",
      " [0. 0. 0.]\n",
      " [0. 0. 0.]]\n",
      "\n",
      " --- Step 2 : ---- \n",
      "\n",
      "-- inner loop --\n",
      "w_product : 2.0 \t w_sigma: [2. 0. 0.] \n",
      " w : [2. 0. 0.] \n",
      "-- outer -- \n",
      "w : [0. 0. 3.] , w_norm : 3.0\n",
      "-- Result --\n",
      " Q: [[1. 0. 0.]\n",
      " [0. 0. 0.]\n",
      " [0. 1. 0.]] \n",
      "\n",
      " R: [[1. 2. 0.]\n",
      " [0. 3. 0.]\n",
      " [0. 0. 0.]]\n",
      "\n",
      " --- Step 3 : ---- \n",
      "\n",
      "-- inner loop --\n",
      "w_product : 4.0 \t w_sigma: [4. 0. 0.] \n",
      " w : [4. 0. 0.] \n",
      "w_product : 6.0 \t w_sigma: [0. 0. 6.] \n",
      " w : [4. 0. 6.] \n",
      "-- outer -- \n",
      "w : [0. 5. 0.] , w_norm : 5.0\n",
      "-- Result --\n",
      " Q: [[1. 0. 0.]\n",
      " [0. 0. 1.]\n",
      " [0. 1. 0.]] \n",
      "\n",
      " R: [[1. 2. 4.]\n",
      " [0. 3. 6.]\n",
      " [0. 0. 5.]]\n"
     ]
    }
   ],
   "source": [
    "def QRDecomposition(A):\n",
    "    rows,cols = A.shape\n",
    "    Q = np.zeros((rows,cols))\n",
    "    R = np.zeros((rows,cols))\n",
    "    \n",
    "    # iterate over cols\n",
    "    for i in range(cols):\n",
    "        print('\\n --- Step {} : ---- \\n'.format(i+1))\n",
    "        if i == 0:\n",
    "            # first cols\n",
    "            w_norm =  np.sqrt(np.transpose(A[:,i]).dot(A[:,i])) # norm euclidean of first cols\n",
    "            Q[:,i] = A[:,i] / w_norm # calculate Q\n",
    "            R[i,i] = w_norm # put norm to R\n",
    "        else:\n",
    "            idx_rows = 0\n",
    "            print('-- inner loop --')\n",
    "            w = np.zeros(rows) \n",
    "            #print(w)\n",
    "            for j in range(i):\n",
    "                # inner loop for calculate sigma\n",
    "                w_product = np.transpose(A[:,i]).dot(Q[:,idx_rows]) # calculate dot product An^T with Qn.\n",
    "                R[idx_rows,i] = w_product # put w_product to R\n",
    "                w_sigma = w_product * Q[:,idx_rows] # dot q, (An^T*Qi)Qi\n",
    "                w =  w + w_sigma # summation the result\n",
    "                idx_rows += 1\n",
    "                print('w_product : {} \\t w_sigma: {} \\n w : {} '.format(w_product,w_sigma, w))\n",
    "            \n",
    "            w = A[:,i].transpose() - w # An - summation \n",
    "            w = w.transpose() # change the shape\n",
    "            w_norm = np.sqrt(np.transpose(w).dot(w)) # calculate norm of w\n",
    "            R[i,i] = w_norm # put norm to R\n",
    "            Q[:,i] = w / w_norm # calculate Q \n",
    "            print('-- outer -- ')\n",
    "            print('w : {} , w_norm : {}'.format(w,w_norm))\n",
    "            \n",
    "        print('-- Result --')\n",
    "        print(' Q: {} \\n\\n R: {}'.format(Q, R))\n",
    "    \n",
    "    return Q, R\n",
    "        \n",
    "Q,R = QRDecomposition(A)"
   ]
  },
  {
   "cell_type": "markdown",
   "metadata": {},
   "source": [
    "Testing $A = Q*R$"
   ]
  },
  {
   "cell_type": "code",
   "execution_count": 7,
   "metadata": {},
   "outputs": [
    {
     "data": {
      "text/plain": [
       "array([[1., 2., 4.],\n",
       "       [0., 0., 5.],\n",
       "       [0., 3., 6.]])"
      ]
     },
     "execution_count": 7,
     "metadata": {},
     "output_type": "execute_result"
    }
   ],
   "source": [
    "# prove\n",
    "# A = Q*R\n",
    "A_qr = Q.dot(R)\n",
    "A_qr"
   ]
  },
  {
   "cell_type": "code",
   "execution_count": 8,
   "metadata": {},
   "outputs": [
    {
     "data": {
      "text/plain": [
       "array([[ True,  True,  True],\n",
       "       [ True,  True,  True],\n",
       "       [ True,  True,  True]])"
      ]
     },
     "execution_count": 8,
     "metadata": {},
     "output_type": "execute_result"
    }
   ],
   "source": [
    "A_qr == A"
   ]
  },
  {
   "cell_type": "code",
   "execution_count": 15,
   "metadata": {},
   "outputs": [
    {
     "data": {
      "text/plain": [
       "array([[0.54366257, 0.45876114, 0.08862018, 0.36770131, 0.57946619],\n",
       "       [0.3153552 , 0.1685013 , 0.1054826 , 0.51139564, 0.26009534],\n",
       "       [0.46142187, 0.88814777, 0.48847009, 0.27508568, 0.82076906],\n",
       "       [0.58945593, 0.74701087, 0.95224502, 0.33371479, 0.65439308],\n",
       "       [0.73422061, 0.22821327, 0.99034256, 0.9185952 , 0.05493094]])"
      ]
     },
     "execution_count": 15,
     "metadata": {},
     "output_type": "execute_result"
    }
   ],
   "source": [
    "# try with A random\n",
    "n = 5\n",
    "A = np.random.rand(n,n)\n",
    "A"
   ]
  },
  {
   "cell_type": "code",
   "execution_count": 16,
   "metadata": {},
   "outputs": [
    {
     "name": "stdout",
     "output_type": "stream",
     "text": [
      "\n",
      " --- Step 1 : ---- \n",
      "\n",
      "-- Result --\n",
      " Q: [[0.44471971 0.         0.         0.         0.        ]\n",
      " [0.25796272 0.         0.         0.         0.        ]\n",
      " [0.37744625 0.         0.         0.         0.        ]\n",
      " [0.482179   0.         0.         0.         0.        ]\n",
      " [0.6005975  0.         0.         0.         0.        ]] \n",
      "\n",
      " R: [[1.22248364 0.         0.         0.         0.        ]\n",
      " [0.         0.         0.         0.         0.        ]\n",
      " [0.         0.         0.         0.         0.        ]\n",
      " [0.         0.         0.         0.         0.        ]\n",
      " [0.         0.         0.         0.         0.        ]]\n",
      "\n",
      " --- Step 2 : ---- \n",
      "\n",
      "-- inner loop --\n",
      "w_product : 1.079972492259144 \t w_sigma: [0.48028506 0.27859264 0.40763157 0.52074005 0.64862878] \n",
      " w : [0.48028506 0.27859264 0.40763157 0.52074005 0.64862878] \n",
      "-- outer -- \n",
      "w : [-0.02152391 -0.11009134  0.4805162   0.22627082 -0.42041551] , w_norm : 0.6866053311427806\n",
      "-- Result --\n",
      " Q: [[ 0.44471971 -0.03134831  0.          0.          0.        ]\n",
      " [ 0.25796272 -0.16034151  0.          0.          0.        ]\n",
      " [ 0.37744625  0.69984338  0.          0.          0.        ]\n",
      " [ 0.482179    0.32955004  0.          0.          0.        ]\n",
      " [ 0.6005975  -0.61231029  0.          0.          0.        ]] \n",
      "\n",
      " R: [[1.22248364 1.07997249 0.         0.         0.        ]\n",
      " [0.         0.68660533 0.         0.         0.        ]\n",
      " [0.         0.         0.         0.         0.        ]\n",
      " [0.         0.         0.         0.         0.        ]\n",
      " [0.         0.         0.         0.         0.        ]]\n",
      "\n",
      " --- Step 3 : ---- \n",
      "\n",
      "-- inner loop --\n",
      "w_product : 1.3049427371701534 \t w_sigma: [0.58033376 0.33662658 0.49254574 0.62921598 0.78374534] \n",
      " w : [0.58033376 0.33662658 0.49254574 0.62921598 0.78374534] \n",
      "w_product : 0.029576671118377473 \t w_sigma: [-0.00092718 -0.00474237  0.02069904  0.00974699 -0.0181101 ] \n",
      " w : [0.57940658 0.33188421 0.51324478 0.63896297 0.76563524] \n",
      "-- outer -- \n",
      "w : [-0.4907864  -0.22640161 -0.02477469  0.31328204  0.22470732] , w_norm : 0.6643656987465439\n",
      "-- Result --\n",
      " Q: [[ 0.44471971 -0.03134831 -0.73872929  0.          0.        ]\n",
      " [ 0.25796272 -0.16034151 -0.3407786   0.          0.        ]\n",
      " [ 0.37744625  0.69984338 -0.03729075  0.          0.        ]\n",
      " [ 0.482179    0.32955004  0.4715506   0.          0.        ]\n",
      " [ 0.6005975  -0.61231029  0.33822836  0.          0.        ]] \n",
      "\n",
      " R: [[1.22248364 1.07997249 1.30494274 0.         0.        ]\n",
      " [0.         0.68660533 0.02957667 0.         0.        ]\n",
      " [0.         0.         0.6643657  0.         0.        ]\n",
      " [0.         0.         0.         0.         0.        ]\n",
      " [0.         0.         0.         0.         0.        ]]\n",
      "\n",
      " --- Step 4 : ---- \n",
      "\n",
      "-- inner loop --\n",
      "w_product : 1.1118913323071173 \t w_sigma: [0.49448    0.28682651 0.41967922 0.53613065 0.66779915] \n",
      " w : [0.49448    0.28682651 0.41967922 0.53613065 0.66779915] \n",
      "w_product : -0.35349743853242876 \t w_sigma: [ 0.01108155  0.05668031 -0.24739284 -0.1164951   0.21645012] \n",
      " w : [0.50556154 0.34350683 0.17228637 0.41963555 0.88424927] \n",
      "w_product : 0.01189579270971497 \t w_sigma: [-0.00878777 -0.00405383 -0.0004436   0.00560947  0.00402349] \n",
      " w : [0.49677377 0.33945299 0.17184277 0.42524502 0.88827277] \n",
      "-- outer -- \n",
      "w : [-0.12907246  0.17194265  0.10324291 -0.09153023  0.03032243] , w_norm : 0.25725532977667326\n",
      "-- Result --\n",
      " Q: [[ 0.44471971 -0.03134831 -0.73872929 -0.501729    0.        ]\n",
      " [ 0.25796272 -0.16034151 -0.3407786   0.6683735   0.        ]\n",
      " [ 0.37744625  0.69984338 -0.03729075  0.40132468  0.        ]\n",
      " [ 0.482179    0.32955004  0.4715506  -0.35579526  0.        ]\n",
      " [ 0.6005975  -0.61231029  0.33822836  0.11786902  0.        ]] \n",
      "\n",
      " R: [[ 1.22248364  1.07997249  1.30494274  1.11189133  0.        ]\n",
      " [ 0.          0.68660533  0.02957667 -0.35349744  0.        ]\n",
      " [ 0.          0.          0.6643657   0.01189579  0.        ]\n",
      " [ 0.          0.          0.          0.25725533  0.        ]\n",
      " [ 0.          0.          0.          0.          0.        ]]\n",
      "\n",
      " --- Step 5 : ---- \n",
      "\n",
      "-- inner loop --\n",
      "w_product : 0.9831171286237157 \t w_sigma: [0.43721157 0.25360757 0.37107387 0.47403843 0.59045769] \n",
      " w : [0.43721157 0.25360757 0.37107387 0.47403843 0.59045769] \n",
      "w_product : 0.6965609163722112 \t w_sigma: [-0.021836   -0.11168763  0.48748355  0.22955168 -0.42651142] \n",
      " w : [0.41537556 0.14191994 0.85855742 0.70359011 0.16394627] \n",
      "w_product : -0.2201520141086919 \t w_sigma: [ 0.16263274  0.07502309  0.00820963 -0.10381281 -0.07446166] \n",
      " w : [0.5780083  0.21694303 0.86676706 0.5997773  0.08948462] \n",
      "w_product : -0.013854580932444602 \t w_sigma: [ 0.00695125 -0.00926003 -0.00556019  0.00492939 -0.00163303] \n",
      " w : [0.58495955 0.207683   0.86120687 0.60470669 0.08785159] \n",
      "-- outer -- \n",
      "w : [-0.00549335  0.05241234 -0.04043781  0.04968639 -0.03292065] , w_norm : 0.08924658731868415\n",
      "-- Result --\n",
      " Q: [[ 0.44471971 -0.03134831 -0.73872929 -0.501729   -0.06155254]\n",
      " [ 0.25796272 -0.16034151 -0.3407786   0.6683735   0.58727561]\n",
      " [ 0.37744625  0.69984338 -0.03729075  0.40132468 -0.45310205]\n",
      " [ 0.482179    0.32955004  0.4715506  -0.35579526  0.55673149]\n",
      " [ 0.6005975  -0.61231029  0.33822836  0.11786902 -0.36887291]] \n",
      "\n",
      " R: [[ 1.22248364  1.07997249  1.30494274  1.11189133  0.98311713]\n",
      " [ 0.          0.68660533  0.02957667 -0.35349744  0.69656092]\n",
      " [ 0.          0.          0.6643657   0.01189579 -0.22015201]\n",
      " [ 0.          0.          0.          0.25725533 -0.01385458]\n",
      " [ 0.          0.          0.          0.          0.08924659]]\n"
     ]
    }
   ],
   "source": [
    "Q, R = QRDecomposition(A)"
   ]
  },
  {
   "cell_type": "code",
   "execution_count": 17,
   "metadata": {},
   "outputs": [
    {
     "data": {
      "text/plain": [
       "array([[0.54366257, 0.45876114, 0.08862018, 0.36770131, 0.57946619],\n",
       "       [0.3153552 , 0.1685013 , 0.1054826 , 0.51139564, 0.26009534],\n",
       "       [0.46142187, 0.88814777, 0.48847009, 0.27508568, 0.82076906],\n",
       "       [0.58945593, 0.74701087, 0.95224502, 0.33371479, 0.65439308],\n",
       "       [0.73422061, 0.22821327, 0.99034256, 0.9185952 , 0.05493094]])"
      ]
     },
     "execution_count": 17,
     "metadata": {},
     "output_type": "execute_result"
    }
   ],
   "source": [
    "A_qr = Q.dot(R)\n",
    "A_qr"
   ]
  },
  {
   "cell_type": "code",
   "execution_count": 18,
   "metadata": {
    "scrolled": true
   },
   "outputs": [
    {
     "data": {
      "text/plain": [
       "array([[ True,  True,  True,  True,  True],\n",
       "       [ True,  True,  True,  True,  True],\n",
       "       [ True,  True,  True,  True,  True],\n",
       "       [ True,  True,  True,  True,  True],\n",
       "       [ True,  True,  True,  True,  True]])"
      ]
     },
     "execution_count": 18,
     "metadata": {},
     "output_type": "execute_result"
    }
   ],
   "source": [
    "np.round(A) == np.round(A_qr)"
   ]
  },
  {
   "cell_type": "markdown",
   "metadata": {},
   "source": [
    "# References\n",
    "http://ee263.stanford.edu/lectures/qr.pdf\n",
    "\n",
    "http://people.inf.ethz.ch/gander/papers/qrneu.pdf"
   ]
  }
 ],
 "metadata": {
  "kernelspec": {
   "display_name": "Python 3",
   "language": "python",
   "name": "python3"
  },
  "language_info": {
   "codemirror_mode": {
    "name": "ipython",
    "version": 3
   },
   "file_extension": ".py",
   "mimetype": "text/x-python",
   "name": "python",
   "nbconvert_exporter": "python",
   "pygments_lexer": "ipython3",
   "version": "3.7.4"
  }
 },
 "nbformat": 4,
 "nbformat_minor": 2
}
