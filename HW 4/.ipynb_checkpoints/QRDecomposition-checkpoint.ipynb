{
 "cells": [
  {
   "cell_type": "markdown",
   "metadata": {},
   "source": [
    "# QR Decomposition\n",
    "\n",
    "How to make $\\mathbf{A}$ which is not orthogonal to orthogonal using Gram-Schmidt to get $\\mathbf{Q}$. Using that method we can also calculate the $\\mathbf{R}$ for QR Decomposition.\n",
    "\n",
    "Given  $A = \\begin{bmatrix} 1 & 2 & 4\\\\\n",
    "0 & 0 & 5  \\\\\n",
    "0 & 3 & 6\\end{bmatrix}$, where $a_1 =\\begin{bmatrix} 1\\\\0\\\\0 \\end{bmatrix},a_2 =\\begin{bmatrix} 2\\\\0\\\\3 \\end{bmatrix},a_3 =\\begin{bmatrix} 4\\\\5\\\\6 \\end{bmatrix}$ our goals it to calculate $q_1 , q_2$ and $q_3$\n",
    "\n",
    "using this formula $q_n = \\frac{w_n}{|| w_n ||}$ where $w_n = a_n - \\sum^{n-1}_{i=1} (a_n^\\intercal q_i)q_i$ and $ || w_n || = \\sqrt{w_n^\\intercal w_n}$\n",
    "\n",
    "The pseudocode are :\n",
    "1. Generate A\n",
    "2. Call QR Decomposition\n",
    "    - generate zeros matrix as Q, and R\n",
    "    - iterate over column \n",
    "    - for first iterate update first Q = current cols / euclidean of first cols and update R for its norm\n",
    "    - and next iterate using the formula to calculate Q.\n",
    "3. \n",
    "\n"
   ]
  },
  {
   "cell_type": "code",
   "execution_count": 87,
   "metadata": {},
   "outputs": [],
   "source": [
    "import numpy as np\n",
    "A = np.array([[1. , 2. , 4.],\n",
    "            [0., 0., 5.],\n",
    "            [0., 3., 6.]])\n"
   ]
  },
  {
   "cell_type": "code",
   "execution_count": 88,
   "metadata": {},
   "outputs": [
    {
     "name": "stdout",
     "output_type": "stream",
     "text": [
      "\n",
      " --- Step 1 : ---- \n",
      "\n",
      "-- Result --\n",
      " Q: [[1. 0. 0.]\n",
      " [0. 0. 0.]\n",
      " [0. 0. 0.]] \n",
      "\n",
      " R: [[1. 0. 0.]\n",
      " [0. 0. 0.]\n",
      " [0. 0. 0.]]\n",
      "\n",
      " --- Step 2 : ---- \n",
      "\n",
      "-- inner loop --\n",
      "w_product : 2.0 \t w_sigma: [2. 0. 0.] \n",
      " w : [2. 0. 0.] \n",
      "-- outer -- \n",
      "w : [0. 0. 3.] , w_norm : 3.0\n",
      "-- Result --\n",
      " Q: [[1. 0. 0.]\n",
      " [0. 0. 0.]\n",
      " [0. 1. 0.]] \n",
      "\n",
      " R: [[1. 2. 0.]\n",
      " [0. 3. 0.]\n",
      " [0. 0. 0.]]\n",
      "\n",
      " --- Step 3 : ---- \n",
      "\n",
      "-- inner loop --\n",
      "w_product : 4.0 \t w_sigma: [4. 0. 0.] \n",
      " w : [4. 0. 0.] \n",
      "w_product : 6.0 \t w_sigma: [0. 0. 6.] \n",
      " w : [4. 0. 6.] \n",
      "-- outer -- \n",
      "w : [0. 5. 0.] , w_norm : 5.0\n",
      "-- Result --\n",
      " Q: [[1. 0. 0.]\n",
      " [0. 0. 1.]\n",
      " [0. 1. 0.]] \n",
      "\n",
      " R: [[1. 2. 4.]\n",
      " [0. 3. 6.]\n",
      " [0. 0. 5.]]\n"
     ]
    }
   ],
   "source": [
    "def QRDecomposition(A):\n",
    "    rows,cols = A.shape\n",
    "    Q = np.zeros((rows,cols))\n",
    "    R = np.zeros((rows,cols))\n",
    "    \n",
    "    # iterate over cols\n",
    "    for i in range(cols):\n",
    "        print('\\n --- Step {} : ---- \\n'.format(i+1))\n",
    "        if i == 0:\n",
    "            # first cols\n",
    "            w_norm =  np.sqrt(np.transpose(A[:,i]).dot(A[:,i])) # norm euclidean of first cols\n",
    "            Q[:,i] = A[:,i] / w_norm # calculate Q\n",
    "            R[i,i] = w_norm # put norm to R\n",
    "        else:\n",
    "            idx_rows = 0\n",
    "            print('-- inner loop --')\n",
    "            w = np.zeros(rows) \n",
    "            #print(w)\n",
    "            for j in range(i):\n",
    "                # inner loop for calculate sigma\n",
    "                w_product = np.transpose(A[:,i]).dot(Q[:,idx_rows]) # calculate dot product An^T with Qn.\n",
    "                R[idx_rows,i] = w_product # put w_product to R\n",
    "                w_sigma = w_product * Q[:,idx_rows] # dot q, (An^T*Qi)Qi\n",
    "                w =  w + w_sigma # summation the result\n",
    "                idx_rows += 1\n",
    "                print('w_product : {} \\t w_sigma: {} \\n w : {} '.format(w_product,w_sigma, w))\n",
    "            \n",
    "            w = A[:,i].transpose() - w # An - summation \n",
    "            w = w.transpose() # change the shape\n",
    "            w_norm = np.sqrt(np.transpose(w).dot(w)) # calculate norm of w\n",
    "            R[i,i] = w_norm # put norm to R\n",
    "            Q[:,i] = w / w_norm # calculate Q \n",
    "            print('-- outer -- ')\n",
    "            print('w : {} , w_norm : {}'.format(w,w_norm))\n",
    "            \n",
    "        print('-- Result --')\n",
    "        print(' Q: {} \\n\\n R: {}'.format(Q, R))\n",
    "    \n",
    "    return Q, R\n",
    "        \n",
    "Q,R = QRDecomposition(A)"
   ]
  },
  {
   "cell_type": "code",
   "execution_count": 50,
   "metadata": {},
   "outputs": [
    {
     "data": {
      "text/plain": [
       "array([[1., 2., 4.],\n",
       "       [0., 0., 5.],\n",
       "       [0., 3., 6.]])"
      ]
     },
     "execution_count": 50,
     "metadata": {},
     "output_type": "execute_result"
    }
   ],
   "source": [
    "# prove\n",
    "# A = Q*R\n",
    "A_qr = Q.dot(R)\n",
    "A_qr"
   ]
  },
  {
   "cell_type": "code",
   "execution_count": 51,
   "metadata": {},
   "outputs": [
    {
     "data": {
      "text/plain": [
       "array([[ True,  True,  True],\n",
       "       [ True,  True,  True],\n",
       "       [ True,  True,  True]])"
      ]
     },
     "execution_count": 51,
     "metadata": {},
     "output_type": "execute_result"
    }
   ],
   "source": [
    "A_qr == A"
   ]
  },
  {
   "cell_type": "code",
   "execution_count": 74,
   "metadata": {},
   "outputs": [
    {
     "data": {
      "text/plain": [
       "array([[0.26884455, 0.36648502, 0.99439379, 0.53235568, 0.15048362],\n",
       "       [0.77759916, 0.12150445, 0.76780458, 0.45620038, 0.17618098],\n",
       "       [0.07667154, 0.21741597, 0.4410337 , 0.07054757, 0.76850947],\n",
       "       [0.94797381, 0.30726827, 0.32185257, 0.59690843, 0.30624851],\n",
       "       [0.38409323, 0.5933368 , 0.43116459, 0.44401658, 0.1481439 ]])"
      ]
     },
     "execution_count": 74,
     "metadata": {},
     "output_type": "execute_result"
    }
   ],
   "source": [
    "# try with A random\n",
    "n = 5\n",
    "A = np.random.rand(n,n)\n",
    "A"
   ]
  },
  {
   "cell_type": "code",
   "execution_count": 75,
   "metadata": {},
   "outputs": [
    {
     "name": "stdout",
     "output_type": "stream",
     "text": [
      "\n",
      " --- Step 1 : ---- \n",
      "\n",
      "-- Result --\n",
      " Q: [[0.20445792 0.         0.         0.         0.        ]\n",
      " [0.59136892 0.         0.         0.         0.        ]\n",
      " [0.05830917 0.         0.         0.         0.        ]\n",
      " [0.72093989 0.         0.         0.         0.        ]\n",
      " [0.29210525 0.         0.         0.         0.        ]] \n",
      "\n",
      " R: [[1.31491381 0.         0.         0.         0.        ]\n",
      " [0.         0.         0.         0.         0.        ]\n",
      " [0.         0.         0.         0.         0.        ]\n",
      " [0.         0.         0.         0.         0.        ]\n",
      " [0.         0.         0.         0.         0.        ]]\n",
      "\n",
      " --- Step 2 : ---- \n",
      "\n",
      "-- inner loop --\n",
      "w_product : 0.5543008062940877 \t w_sigma: [0.11333119 0.32779627 0.03232082 0.39961756 0.16191418] \n",
      " w : [0.11333119 0.32779627 0.03232082 0.39961756 0.16191418] \n",
      "-- outer -- \n",
      "w : [ 0.25315382 -0.20629183  0.18509515 -0.09234929  0.43142262] , w_norm : 0.5792730470823192\n",
      "-- Result --\n",
      " Q: [[ 0.20445792  0.43701986  0.          0.          0.        ]\n",
      " [ 0.59136892 -0.35612191  0.          0.          0.        ]\n",
      " [ 0.05830917  0.31953006  0.          0.          0.        ]\n",
      " [ 0.72093989 -0.15942273  0.          0.          0.        ]\n",
      " [ 0.29210525  0.74476557  0.          0.          0.        ]] \n",
      "\n",
      " R: [[1.31491381 0.55430081 0.         0.         0.        ]\n",
      " [0.         0.57927305 0.         0.         0.        ]\n",
      " [0.         0.         0.         0.         0.        ]\n",
      " [0.         0.         0.         0.         0.        ]\n",
      " [0.         0.         0.         0.         0.        ]]\n",
      "\n",
      " --- Step 3 : ---- \n",
      "\n",
      "-- inner loop --\n",
      "w_product : 1.0410655586797284 \t w_sigma: [0.2128541  0.61565382 0.06070367 0.75054568 0.30410071] \n",
      " w : [0.2128541  0.61565382 0.06070367 0.75054568 0.30410071] \n",
      "w_product : 0.5718672489077508 \t w_sigma: [ 0.24991734 -0.20365446  0.18272878 -0.09116864  0.42590704] \n",
      " w : [0.46277145 0.41199936 0.24343245 0.65937704 0.73000775] \n",
      "-- outer -- \n",
      "w : [ 0.53162234  0.35580522  0.19760125 -0.33752448 -0.29884317] , w_norm : 0.8071529847085812\n",
      "-- Result --\n",
      " Q: [[ 0.20445792  0.43701986  0.65863889  0.          0.        ]\n",
      " [ 0.59136892 -0.35612191  0.4408151   0.          0.        ]\n",
      " [ 0.05830917  0.31953006  0.24481264  0.          0.        ]\n",
      " [ 0.72093989 -0.15942273 -0.41816667  0.          0.        ]\n",
      " [ 0.29210525  0.74476557 -0.37024352  0.          0.        ]] \n",
      "\n",
      " R: [[1.31491381 0.55430081 1.04106556 0.         0.        ]\n",
      " [0.         0.57927305 0.57186725 0.         0.        ]\n",
      " [0.         0.         0.80715298 0.         0.        ]\n",
      " [0.         0.         0.         0.         0.        ]\n",
      " [0.         0.         0.         0.         0.        ]]\n",
      "\n",
      " --- Step 4 : ---- \n",
      "\n",
      "-- inner loop --\n",
      "w_product : 0.942775304838766 \t w_sigma: [0.19275788 0.55752802 0.05497245 0.67968432 0.27538962] \n",
      " w : [0.19275788 0.55752802 0.05497245 0.67968432 0.27538962] \n",
      "w_product : 0.3282566109917575 \t w_sigma: [ 0.14345466 -0.11689937  0.10488785 -0.05233157  0.24447422] \n",
      " w : [0.33621254 0.44062864 0.1598603  0.62735275 0.51986384] \n",
      "w_product : 0.15499962514163573 \t w_sigma: [ 0.10208878  0.06832617  0.03794587 -0.06481568 -0.05738761] \n",
      " w : [0.43830132 0.50895482 0.19780617 0.56253708 0.46247623] \n",
      "-- outer -- \n",
      "w : [ 0.09405436 -0.05275444 -0.1272586   0.03437136 -0.01845965] , w_norm : 0.17130719061763455\n",
      "-- Result --\n",
      " Q: [[ 0.20445792  0.43701986  0.65863889  0.54903918  0.        ]\n",
      " [ 0.59136892 -0.35612191  0.4408151  -0.30795229  0.        ]\n",
      " [ 0.05830917  0.31953006  0.24481264 -0.74286782  0.        ]\n",
      " [ 0.72093989 -0.15942273 -0.41816667  0.20064165  0.        ]\n",
      " [ 0.29210525  0.74476557 -0.37024352 -0.10775759  0.        ]] \n",
      "\n",
      " R: [[1.31491381 0.55430081 1.04106556 0.9427753  0.        ]\n",
      " [0.         0.57927305 0.57186725 0.32825661 0.        ]\n",
      " [0.         0.         0.80715298 0.15499963 0.        ]\n",
      " [0.         0.         0.         0.17130719 0.        ]\n",
      " [0.         0.         0.         0.         0.        ]]\n",
      "\n",
      " --- Step 5 : ---- \n",
      "\n",
      "-- inner loop --\n",
      "w_product : 0.4438270546940587 \t w_sigma: [0.09074396 0.26246553 0.02587919 0.31997263 0.12964421] \n",
      " w : [0.09074396 0.26246553 0.02587919 0.31997263 0.12964421] \n",
      "w_product : 0.3100938041074084 \t w_sigma: [ 0.13551715 -0.1104312   0.09908429 -0.049436    0.23094719] \n",
      " w : [0.22626111 0.15203433 0.12496348 0.27053662 0.3605914 ] \n",
      "w_product : 0.18200619265009796 \t w_sigma: [ 0.11987636  0.08023108  0.04455742 -0.07610892 -0.06738661] \n",
      " w : [0.34613746 0.23226541 0.1695209  0.1944277  0.29320479] \n",
      "w_product : -0.49705230598905875 \t w_sigma: [-0.27290119  0.1530684   0.36924416 -0.0997294   0.05356116] \n",
      " w : [0.07323627 0.3853338  0.53876506 0.0946983  0.34676595] \n",
      "-- outer -- \n",
      "w : [ 0.07724735 -0.20915282  0.22974441  0.21155021 -0.19862205] , w_norm : 0.4320865184173566\n",
      "-- Result --\n",
      " Q: [[ 0.20445792  0.43701986  0.65863889  0.54903918  0.1787775 ]\n",
      " [ 0.59136892 -0.35612191  0.4408151  -0.30795229 -0.48405311]\n",
      " [ 0.05830917  0.31953006  0.24481264 -0.74286782  0.53170928]\n",
      " [ 0.72093989 -0.15942273 -0.41816667  0.20064165  0.4896015 ]\n",
      " [ 0.29210525  0.74476557 -0.37024352 -0.10775759 -0.45968119]] \n",
      "\n",
      " R: [[ 1.31491381  0.55430081  1.04106556  0.9427753   0.44382705]\n",
      " [ 0.          0.57927305  0.57186725  0.32825661  0.3100938 ]\n",
      " [ 0.          0.          0.80715298  0.15499963  0.18200619]\n",
      " [ 0.          0.          0.          0.17130719 -0.49705231]\n",
      " [ 0.          0.          0.          0.          0.43208652]]\n"
     ]
    }
   ],
   "source": [
    "Q, R = QRDecomposition(A)"
   ]
  },
  {
   "cell_type": "code",
   "execution_count": 76,
   "metadata": {},
   "outputs": [
    {
     "data": {
      "text/plain": [
       "array([[0.26884455, 0.36648502, 0.99439379, 0.53235568, 0.15048362],\n",
       "       [0.77759916, 0.12150445, 0.76780458, 0.45620038, 0.17618098],\n",
       "       [0.07667154, 0.21741597, 0.4410337 , 0.07054757, 0.76850947],\n",
       "       [0.94797381, 0.30726827, 0.32185257, 0.59690843, 0.30624851],\n",
       "       [0.38409323, 0.5933368 , 0.43116459, 0.44401658, 0.1481439 ]])"
      ]
     },
     "execution_count": 76,
     "metadata": {},
     "output_type": "execute_result"
    }
   ],
   "source": [
    "A_qr = Q.dot(R)\n",
    "A_qr"
   ]
  },
  {
   "cell_type": "code",
   "execution_count": 78,
   "metadata": {},
   "outputs": [
    {
     "data": {
      "text/plain": [
       "array([[ True,  True,  True,  True,  True],\n",
       "       [ True,  True,  True,  True,  True],\n",
       "       [ True,  True,  True,  True,  True],\n",
       "       [ True,  True,  True,  True,  True],\n",
       "       [ True,  True,  True,  True,  True]])"
      ]
     },
     "execution_count": 78,
     "metadata": {},
     "output_type": "execute_result"
    }
   ],
   "source": [
    "np.round(A) == np.round(A_qr)"
   ]
  },
  {
   "cell_type": "code",
   "execution_count": null,
   "metadata": {},
   "outputs": [],
   "source": []
  },
  {
   "cell_type": "code",
   "execution_count": null,
   "metadata": {},
   "outputs": [],
   "source": []
  }
 ],
 "metadata": {
  "kernelspec": {
   "display_name": "Python 3",
   "language": "python",
   "name": "python3"
  },
  "language_info": {
   "codemirror_mode": {
    "name": "ipython",
    "version": 3
   },
   "file_extension": ".py",
   "mimetype": "text/x-python",
   "name": "python",
   "nbconvert_exporter": "python",
   "pygments_lexer": "ipython3",
   "version": "3.7.4"
  }
 },
 "nbformat": 4,
 "nbformat_minor": 2
}
