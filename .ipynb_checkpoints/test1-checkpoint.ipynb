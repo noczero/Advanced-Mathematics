{
 "cells": [
  {
   "cell_type": "markdown",
   "metadata": {},
   "source": [
    " # LU Decomposition\n",
    " Define y = Ax\n",
    "using this method we can achive the LU given A"
   ]
  },
  {
   "cell_type": "code",
   "execution_count": 44,
   "metadata": {},
   "outputs": [],
   "source": [
    "import numpy as np\n",
    "def LUDecompose(table):\n",
    "    # Table that contains our data\n",
    "    # Table has to be a square array so we need to check first\n",
    "    rows, columns = numpy.shape(table)\n",
    "    L = numpy.zeros((rows, columns))\n",
    "    U = numpy.zeros((rows, columns))\n",
    "    if rows != columns:\n",
    "        return []\n",
    "    for i in range(columns):\n",
    "        for j in range(i):\n",
    "            sum = 0\n",
    "            for k in range(j):\n",
    "                sum += L[i][k] * U[k][j]\n",
    "            L[i][j] = (table[i][j] - sum) / U[j][j]\n",
    "            print(L[i][j])\n",
    "        L[i][i] = 1\n",
    "        print('Search U')\n",
    "        for j in range(i, columns):\n",
    "            sum1 = 0\n",
    "            for k in range(i - 1):\n",
    "                sum1 += L[i][k] * U[k][j]\n",
    "            U[i][j] = table[i][j] - sum1 \n",
    "            print(U[i][j])\n",
    "    return L, U"
   ]
  },
  {
   "cell_type": "code",
   "execution_count": 45,
   "metadata": {},
   "outputs": [
    {
     "name": "stdout",
     "output_type": "stream",
     "text": [
      "1.0\n",
      "-2.0\n",
      "3.0\n",
      "2.0\n",
      "[[1. 0.]\n",
      " [3. 1.]]\n",
      "[[ 1. -2.]\n",
      " [ 0.  2.]]\n"
     ]
    }
   ],
   "source": [
    "matrix = numpy.array([[7, 3, -1, 2], [3, -8, 1, -4], [-1, 1, 4, -1], [2, -4, -1, 6]])\n",
    "matA = np.array([[1,-2],[3,2]])\n",
    "L, U = LUDecompose(matA)\n",
    "print(L)\n",
    "print(U)"
   ]
  },
  {
   "cell_type": "code",
   "execution_count": 42,
   "metadata": {},
   "outputs": [
    {
     "data": {
      "text/plain": [
       "array([[ 7,  3, -1,  2],\n",
       "       [ 3, -8,  1, -4],\n",
       "       [-1,  1,  4, -1],\n",
       "       [ 2, -4, -1,  6]])"
      ]
     },
     "execution_count": 42,
     "metadata": {},
     "output_type": "execute_result"
    }
   ],
   "source": [
    "matrix"
   ]
  },
  {
   "cell_type": "code",
   "execution_count": 43,
   "metadata": {},
   "outputs": [
    {
     "data": {
      "text/plain": [
       "array([[ 1., -2.],\n",
       "       [ 3., -4.]])"
      ]
     },
     "execution_count": 43,
     "metadata": {},
     "output_type": "execute_result"
    }
   ],
   "source": [
    "np.dot(L,U)"
   ]
  },
  {
   "cell_type": "code",
   "execution_count": 25,
   "metadata": {},
   "outputs": [],
   "source": [
    "A = np.array([[1,2],[1,2],[1,2]])"
   ]
  },
  {
   "cell_type": "code",
   "execution_count": 26,
   "metadata": {},
   "outputs": [
    {
     "data": {
      "text/plain": [
       "array([[1, 2],\n",
       "       [1, 2],\n",
       "       [1, 2]])"
      ]
     },
     "execution_count": 26,
     "metadata": {},
     "output_type": "execute_result"
    }
   ],
   "source": [
    "A"
   ]
  },
  {
   "cell_type": "code",
   "execution_count": 27,
   "metadata": {},
   "outputs": [],
   "source": [
    "B = np.array([[1,1],[2,2],[3,3]])"
   ]
  },
  {
   "cell_type": "code",
   "execution_count": 28,
   "metadata": {},
   "outputs": [
    {
     "data": {
      "text/plain": [
       "array([[1, 1],\n",
       "       [2, 2],\n",
       "       [3, 3]])"
      ]
     },
     "execution_count": 28,
     "metadata": {},
     "output_type": "execute_result"
    }
   ],
   "source": [
    "B"
   ]
  },
  {
   "cell_type": "code",
   "execution_count": 29,
   "metadata": {},
   "outputs": [
    {
     "data": {
      "text/plain": [
       "array([[1, 2],\n",
       "       [2, 4],\n",
       "       [3, 6]])"
      ]
     },
     "execution_count": 29,
     "metadata": {},
     "output_type": "execute_result"
    }
   ],
   "source": []
  },
  {
   "cell_type": "code",
   "execution_count": null,
   "metadata": {},
   "outputs": [],
   "source": []
  }
 ],
 "metadata": {
  "kernelspec": {
   "display_name": "Python 3",
   "language": "python",
   "name": "python3"
  },
  "language_info": {
   "codemirror_mode": {
    "name": "ipython",
    "version": 3
   },
   "file_extension": ".py",
   "mimetype": "text/x-python",
   "name": "python",
   "nbconvert_exporter": "python",
   "pygments_lexer": "ipython3",
   "version": "3.7.4"
  }
 },
 "nbformat": 4,
 "nbformat_minor": 2
}
