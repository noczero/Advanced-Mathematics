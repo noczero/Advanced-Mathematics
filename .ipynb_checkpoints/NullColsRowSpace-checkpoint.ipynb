{
 "cells": [
  {
   "cell_type": "markdown",
   "metadata": {},
   "source": [
    "# Left Null Space and Column Space\n",
    "*Author : Satrya Budi Pratama*\n",
    "\n",
    "Equation of Null Space : \n",
    "\n",
    "$\\boldsymbol{A}x = 0$ \n",
    "\n",
    "Notation :\n",
    "\n",
    "\n",
    "- Column Space :  $C(\\boldsymbol{A})$ \n",
    "- Null Space :  $N(\\boldsymbol{A}) = N(rref(\\boldsymbol{A}))$ \n",
    "\n",
    "we can calculate the null space of a **A** with that equation\n",
    "$\\begin{bmatrix} 1 & 2 & 1 & 1 & 5\\\\\n",
    "-2 & 4 & 0 & 4 & -2 \\\\\n",
    "1 & 2 & 2 & 4 & 9\\end{bmatrix}\\begin{bmatrix}x_{1}\\\\x_{2}\\\\x_{3}\\\\x_{4}\\\\x_{5} \\end{bmatrix} = \\begin{bmatrix}0\\\\0\\\\0\\\\0\\\\0\\end{bmatrix}$\n",
    "\n",
    "## Pseudocode\n",
    "1. Generate an A(rows,cols), in this case we would solve 3x5 matrices\n",
    "$\\begin{bmatrix}\n",
    "1 & 2 & 1 & 1 & 5\\\\\n",
    "-2 & 4 & 0 & 4 & -2 \\\\\n",
    "1 & 2 & 2 & 4 & 9\n",
    "\\end{bmatrix}$\n",
    "2. Do reduced row echelon form (rref)\n",
    "     - Iterate over cols\n",
    "     - Find the pivot by get the absolute maximum element on same cols\n",
    "     - If pivot is zero, skip the cols and set to zero\n",
    "     - If pivot index is not same as current rows then swap the rows of the pivot\n",
    "     - Normalize current rows with the current pivot element\n",
    "     - Eliminate above and below\n",
    "     - if r same as number of rows then finish\n",
    "     \n",
    "     \n",
    "2. Get basic variables, the variables corresponding to the pivots in row reduced echelon form are called **basic variables**.\n",
    "3. Get Free variables, other variables are called **free variables**.\n",
    "3. Get column space\n",
    "4. Get rows space\n",
    "3. Get null space by calculate the linear combination.  \n",
    "4. Testing the result of linear combination as x to the $y = \\boldsymbol{A}x$, if $y = 0$ it means the algorithm is working\n",
    "\n",
    "\n",
    "Reference : \n",
    "https://www.youtube.com/watch?v=Qy4KzVGpzkM"
   ]
  },
  {
   "cell_type": "code",
   "execution_count": 1,
   "metadata": {},
   "outputs": [],
   "source": [
    "import numpy as np\n",
    "A = np.array([[1. , 2. , 1. , 1. , 5.],\n",
    "            [-2. , 4. , 0. , 4. , -2.],\n",
    "            [1. , 2. , 2. , 4. , 9.]])"
   ]
  },
  {
   "cell_type": "code",
   "execution_count": 2,
   "metadata": {},
   "outputs": [],
   "source": [
    "# get rref\n",
    "def get_reduced_row_echelon_form(B):\n",
    "    A = np.copy(B)\n",
    "    zero_tol=1e-8\n",
    "    rows, cols = A.shape\n",
    "    r = 0\n",
    "    # iterate over cols\n",
    "    for c in range(cols):\n",
    "        print('\\n Step : {}'.format(c+1))\n",
    "        print(\"----------------- \\nNow at row {} and col {} with \\n A: {}\".format(r,c,A))\n",
    "        ## Find the pivot row by get the maximum element on same rows\n",
    "        pivot = np.argmax (np.abs (A[r:rows,c])) + r\n",
    "        #print(np.argmax (np.abs (A[r:rows,c])))\n",
    "        #print(np.abs (A[r:rows,c]))\n",
    "        #print(pivot)\n",
    "        m = np.abs(A[pivot, c])\n",
    "        print(\"Found pivot {} in row {}\".format(m,pivot))        \n",
    "        if m <= zero_tol:\n",
    "            ## Skip column c, making sure the approximately zero terms are\n",
    "            ## actually zero.\n",
    "            A[r:rows, c] = np.zeros(rows-r)\n",
    "            print(\"All elements at and below ( {} , {}) : 0.. moving on..\".format(r,c))\n",
    "        else:\n",
    "            if pivot != r:\n",
    "                ## Swap current row and pivot row\n",
    "                A[[pivot, r], c:cols] = A[[r, pivot], c:cols]\n",
    "                print(\"Swap row {} with row {},  \\n A:{} : \".format(r,pivot,A))\n",
    "                    \n",
    "                \n",
    "            ## Normalize pivot row\n",
    "            print('Normalize {} / {} '.format(A[r, c:cols],   A[r, c] ))\n",
    "            A[r, c:cols] = A[r, c:cols] / A[r, c]; # dividing\n",
    "            print('Currents Rows : {} '.format(A[r,c:cols]))\n",
    "            \n",
    "            print('---- elimination ----')\n",
    "            ## Eliminate the current rows\n",
    "            v = A[r, c:cols]\n",
    "            ## Above (before row r):\n",
    "            if r > 0:\n",
    "                ridx_above = np.arange(r)\n",
    "                out_product = np.outer(v, A[ridx_above, c]).T\n",
    "                rows_above = A[ridx_above, c:cols]\n",
    "                A[ridx_above, c:cols] = rows_above - out_product\n",
    "                print('Eliminate Above : {} -  {}'.format(rows_above,out_product))\n",
    "                print('Cols above : {} '.format(A[ridx_above, c].T))\n",
    "                print(\"Elimination above performed: \\n A:{}\".format(A))\n",
    "            ## Below (after row r):\n",
    "            if r < rows-1:\n",
    "                ridx_below = np.arange(r+1,rows)\n",
    "                out_product = np.outer(v,A[ridx_below, c]).T\n",
    "                rows_below = A[ridx_below,c:cols]\n",
    "                A[ridx_below, c:cols] = A[ridx_below, c:cols] - np.outer(v, A[ridx_below, c]).T\n",
    "                print('Eliminate Below: {} -  {}'.format(rows_below,out_product))\n",
    "                print('Cols Below : {} '.format(A[ridx_below, c].T))\n",
    "                print(\"Elimination above performed: \\n A:{}\".format(A))\n",
    "            \n",
    "        r += 1 # increment rows\n",
    "    \n",
    "        ## Check if done\n",
    "        if r == rows:\n",
    "            print(\"Finished reduced row echo form..\")\n",
    "            break\n",
    "    \n",
    "    return A"
   ]
  },
  {
   "cell_type": "code",
   "execution_count": 3,
   "metadata": {},
   "outputs": [
    {
     "name": "stdout",
     "output_type": "stream",
     "text": [
      "\n",
      " Step : 1\n",
      "----------------- \n",
      "Now at row 0 and col 0 with \n",
      " A: [[ 1.  2.  1.  1.  5.]\n",
      " [-2.  4.  0.  4. -2.]\n",
      " [ 1.  2.  2.  4.  9.]]\n",
      "Found pivot 2.0 in row 1\n",
      "Swap row 0 with row 1,  \n",
      " A:[[-2.  4.  0.  4. -2.]\n",
      " [ 1.  2.  1.  1.  5.]\n",
      " [ 1.  2.  2.  4.  9.]] : \n",
      "Normalize [-2.  4.  0.  4. -2.] / -2.0 \n",
      "Currents Rows : [ 1. -2. -0. -2.  1.] \n",
      "---- elimination ----\n",
      "Eliminate Below: [[1. 2. 1. 1. 5.]\n",
      " [1. 2. 2. 4. 9.]] -  [[ 1. -2. -0. -2.  1.]\n",
      " [ 1. -2. -0. -2.  1.]]\n",
      "Cols Below : [0. 0.] \n",
      "Elimination above performed: \n",
      " A:[[ 1. -2. -0. -2.  1.]\n",
      " [ 0.  4.  1.  3.  4.]\n",
      " [ 0.  4.  2.  6.  8.]]\n",
      "\n",
      " Step : 2\n",
      "----------------- \n",
      "Now at row 1 and col 1 with \n",
      " A: [[ 1. -2. -0. -2.  1.]\n",
      " [ 0.  4.  1.  3.  4.]\n",
      " [ 0.  4.  2.  6.  8.]]\n",
      "Found pivot 4.0 in row 1\n",
      "Normalize [4. 1. 3. 4.] / 4.0 \n",
      "Currents Rows : [1.   0.25 0.75 1.  ] \n",
      "---- elimination ----\n",
      "Eliminate Above : [[-2. -0. -2.  1.]] -  [[-2.  -0.5 -1.5 -2. ]]\n",
      "Cols above : [0.] \n",
      "Elimination above performed: \n",
      " A:[[ 1.    0.    0.5  -0.5   3.  ]\n",
      " [ 0.    1.    0.25  0.75  1.  ]\n",
      " [ 0.    4.    2.    6.    8.  ]]\n",
      "Eliminate Below: [[4. 2. 6. 8.]] -  [[4. 1. 3. 4.]]\n",
      "Cols Below : [0.] \n",
      "Elimination above performed: \n",
      " A:[[ 1.    0.    0.5  -0.5   3.  ]\n",
      " [ 0.    1.    0.25  0.75  1.  ]\n",
      " [ 0.    0.    1.    3.    4.  ]]\n",
      "\n",
      " Step : 3\n",
      "----------------- \n",
      "Now at row 2 and col 2 with \n",
      " A: [[ 1.    0.    0.5  -0.5   3.  ]\n",
      " [ 0.    1.    0.25  0.75  1.  ]\n",
      " [ 0.    0.    1.    3.    4.  ]]\n",
      "Found pivot 1.0 in row 2\n",
      "Normalize [1. 3. 4.] / 1.0 \n",
      "Currents Rows : [1. 3. 4.] \n",
      "---- elimination ----\n",
      "Eliminate Above : [[ 0.5  -0.5   3.  ]\n",
      " [ 0.25  0.75  1.  ]] -  [[0.5  1.5  2.  ]\n",
      " [0.25 0.75 1.  ]]\n",
      "Cols above : [0. 0.] \n",
      "Elimination above performed: \n",
      " A:[[ 1.  0.  0. -2.  1.]\n",
      " [ 0.  1.  0.  0.  0.]\n",
      " [ 0.  0.  1.  3.  4.]]\n",
      "Finished reduced row echo form..\n"
     ]
    }
   ],
   "source": [
    "# invoke rref method\n",
    "Aref = get_reduced_row_echelon_form(A)"
   ]
  },
  {
   "cell_type": "markdown",
   "metadata": {},
   "source": [
    "## Get Basic Variable"
   ]
  },
  {
   "cell_type": "code",
   "execution_count": 4,
   "metadata": {},
   "outputs": [],
   "source": [
    "# get basic variable\n",
    "def get_basic(rref):\n",
    "    list_var = []\n",
    "    rows,cols = rref.shape\n",
    "    r = 0\n",
    "    # iterate over cols\n",
    "    for c in range(cols):\n",
    "        print('Element rows {} , cols {} : {}'.format(c,r,rref[r][c]))\n",
    "        print(rref[r][c+1:cols])\n",
    "        cols_left = rref[r][c+1:cols]\n",
    "        #print(~cols_left.any(axis=1))\n",
    "        #all_zero = np.all(cols_left==0)\n",
    "        \n",
    "        # check pivot contain value not zero\n",
    "        if(rref[r][c] == 1):\n",
    "            str_free_var = 'x_{}'.format(c+1)\n",
    "            list_var.append([str_free_var, r , c]) # append name, rows , cols\n",
    "            print('Found')\n",
    "        \n",
    "        r += 1\n",
    "        \n",
    "        # check r until rows\n",
    "        if(r == rows):\n",
    "            break\n",
    "    return list_var\n"
   ]
  },
  {
   "cell_type": "code",
   "execution_count": 5,
   "metadata": {},
   "outputs": [
    {
     "name": "stdout",
     "output_type": "stream",
     "text": [
      "Element rows 0 , cols 0 : 1.0\n",
      "[ 0.  0. -2.  1.]\n",
      "Found\n",
      "Element rows 1 , cols 1 : 1.0\n",
      "[0. 0. 0.]\n",
      "Found\n",
      "Element rows 2 , cols 2 : 1.0\n",
      "[3. 4.]\n",
      "Found\n"
     ]
    },
    {
     "data": {
      "text/plain": [
       "[['x_1', 0, 0], ['x_2', 1, 1], ['x_3', 2, 2]]"
      ]
     },
     "execution_count": 5,
     "metadata": {},
     "output_type": "execute_result"
    }
   ],
   "source": [
    "basic = get_basic(Aref)\n",
    "basic"
   ]
  },
  {
   "cell_type": "markdown",
   "metadata": {},
   "source": [
    "## Get Column Space"
   ]
  },
  {
   "cell_type": "code",
   "execution_count": 6,
   "metadata": {},
   "outputs": [],
   "source": [
    "# column space\n",
    "def get_cols_space(A,basic):\n",
    "    list_cols = []\n",
    "    for i in range(len(basic)):\n",
    "        cols_space = A[:,basic[i][2]] # get cols of free_var from A\n",
    "        list_cols.append(cols_space)\n",
    "    \n",
    "    return list_cols"
   ]
  },
  {
   "cell_type": "code",
   "execution_count": 7,
   "metadata": {},
   "outputs": [
    {
     "data": {
      "text/plain": [
       "[array([ 1., -2.,  1.]), array([2., 4., 2.]), array([1., 0., 2.])]"
      ]
     },
     "execution_count": 7,
     "metadata": {},
     "output_type": "execute_result"
    }
   ],
   "source": [
    "get_cols_space(A,basic)"
   ]
  },
  {
   "cell_type": "markdown",
   "metadata": {},
   "source": [
    "## Get Rows Space"
   ]
  },
  {
   "cell_type": "code",
   "execution_count": 8,
   "metadata": {},
   "outputs": [],
   "source": [
    "# row space\n",
    "def get_rows_space(rref,basic):\n",
    "    list_rows = []\n",
    "    for i in range(len(basic)):\n",
    "        rows_space = rref[basic[i][1]]\n",
    "        list_rows.append(rows_space)\n",
    "    \n",
    "    return list_rows"
   ]
  },
  {
   "cell_type": "code",
   "execution_count": 9,
   "metadata": {},
   "outputs": [
    {
     "data": {
      "text/plain": [
       "[array([ 1.,  0.,  0., -2.,  1.]),\n",
       " array([0., 1., 0., 0., 0.]),\n",
       " array([0., 0., 1., 3., 4.])]"
      ]
     },
     "execution_count": 9,
     "metadata": {},
     "output_type": "execute_result"
    }
   ],
   "source": [
    "get_rows_space(Aref,basic)"
   ]
  },
  {
   "cell_type": "markdown",
   "metadata": {},
   "source": [
    "## Get Free Variable"
   ]
  },
  {
   "cell_type": "code",
   "execution_count": 10,
   "metadata": {},
   "outputs": [
    {
     "name": "stdout",
     "output_type": "stream",
     "text": [
      "2\n"
     ]
    }
   ],
   "source": [
    "def get_free_variable(A,basic):\n",
    "    list_free = []\n",
    "    subs = len(A[0,:]) - len(basic)\n",
    "    print(subs)\n",
    "    return subs\n",
    "    \n",
    "\n",
    "free = get_free_variable(A,basic)"
   ]
  },
  {
   "cell_type": "markdown",
   "metadata": {},
   "source": [
    "## Get Null Space"
   ]
  },
  {
   "cell_type": "code",
   "execution_count": 11,
   "metadata": {},
   "outputs": [],
   "source": [
    "def get_null_space(rref,free):\n",
    "    rows, cols = rref.shape\n",
    "    list_equation = []\n",
    "    r = 0\n",
    "    # iterate over cols to make list equation\n",
    "    for c in range(cols):\n",
    "        # make equation:\n",
    "        cols_left = rref[r][c+1:cols] # get the rows after pivot\n",
    "        #print(cols_left)\n",
    "        #list_combination_linear.append(equation)\n",
    "        nested_equation = []\n",
    "        for j in range(len(cols_left)):\n",
    "            if cols_left[j] != 0:\n",
    "                nested_equation.append(-1 * cols_left[j]) # change positive to minus because change of position\n",
    "                #print(nested_equation)\n",
    "                \n",
    "        r += 1\n",
    "        \n",
    "        # check rows filled with zeros or not  \n",
    "        if(len(nested_equation) != 0):\n",
    "            list_equation.append(nested_equation)\n",
    "        else:\n",
    "            list_equation.append([0.,0.])\n",
    "        \n",
    "        # stop \n",
    "        if (rows == r):\n",
    "            break \n",
    "    \n",
    "    # add free variable to list equation\n",
    "    # [1 ,0],[0,1]\n",
    "    free_var = np.eye(free)\n",
    "    for val in free_var:\n",
    "        list_equation.append(val)\n",
    "    \n",
    "    # [[2.0, -1.0], [0,0], [-3.0, -4.0],[1,0],[0,1]]\n",
    "    # assume x4 = s , x5 = t\n",
    "    # this means x1 = 2s - t, x2 = 0 , x3 = -3s - 4t\n",
    "    # the null space is : (2,0,3,1,0), (-1,0,-4,0,1)\n",
    "\n",
    "    list_combination_linear = np.transpose(list_equation) #transpose \n",
    "            \n",
    "    return list_combination_linear"
   ]
  },
  {
   "cell_type": "code",
   "execution_count": 12,
   "metadata": {},
   "outputs": [
    {
     "data": {
      "text/plain": [
       "array([[ 2.,  0., -3.,  1.,  0.],\n",
       "       [-1.,  0., -4.,  0.,  1.]])"
      ]
     },
     "execution_count": 12,
     "metadata": {},
     "output_type": "execute_result"
    }
   ],
   "source": [
    "null_space = get_null_space(Aref,free)\n",
    "null_space"
   ]
  },
  {
   "cell_type": "markdown",
   "metadata": {},
   "source": [
    "## Testing Null Space"
   ]
  },
  {
   "cell_type": "code",
   "execution_count": 13,
   "metadata": {},
   "outputs": [
    {
     "data": {
      "text/plain": [
       "array([0., 0., 0.])"
      ]
     },
     "execution_count": 13,
     "metadata": {},
     "output_type": "execute_result"
    }
   ],
   "source": [
    "# A*x = 0\n",
    "A.dot(null_space[0]) "
   ]
  },
  {
   "cell_type": "code",
   "execution_count": 14,
   "metadata": {},
   "outputs": [
    {
     "data": {
      "text/plain": [
       "array([0., 0., 0.])"
      ]
     },
     "execution_count": 14,
     "metadata": {},
     "output_type": "execute_result"
    }
   ],
   "source": [
    "# A*x = 0\n",
    "A.dot(null_space[1])"
   ]
  },
  {
   "cell_type": "code",
   "execution_count": 15,
   "metadata": {},
   "outputs": [
    {
     "name": "stdout",
     "output_type": "stream",
     "text": [
      "\n",
      " A: [[ 1.  2.  1.  1.  5.]\n",
      " [-2.  4.  0.  4. -2.]\n",
      " [ 1.  2.  2.  4.  9.]] \n",
      " x: [ 2.  0. -3.  1.  0.] \n",
      " Result : [0. 0. 0.]\n",
      "-- Proved --\n",
      "\n",
      " A: [[ 1.  2.  1.  1.  5.]\n",
      " [-2.  4.  0.  4. -2.]\n",
      " [ 1.  2.  2.  4.  9.]] \n",
      " x: [-1.  0. -4.  0.  1.] \n",
      " Result : [0. 0. 0.]\n",
      "-- Proved --\n"
     ]
    }
   ],
   "source": [
    "for null in null_space:\n",
    "    result = A.dot(null) # Ax=0\n",
    "    print('\\n A: {} \\n x: {} \\n Result : {}'.format(A, null,result))\n",
    "    \n",
    "    if(np.all(result) == 0):\n",
    "        print(\"-- Proved --\")\n",
    "    else:\n",
    "        print(\"-- Failed -- \")\n"
   ]
  }
 ],
 "metadata": {
  "kernelspec": {
   "display_name": "Python 3",
   "language": "python",
   "name": "python3"
  },
  "language_info": {
   "codemirror_mode": {
    "name": "ipython",
    "version": 3
   },
   "file_extension": ".py",
   "mimetype": "text/x-python",
   "name": "python",
   "nbconvert_exporter": "python",
   "pygments_lexer": "ipython3",
   "version": "3.7.4"
  }
 },
 "nbformat": 4,
 "nbformat_minor": 2
}
